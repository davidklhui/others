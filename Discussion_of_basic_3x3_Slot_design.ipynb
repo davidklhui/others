{
  "nbformat": 4,
  "nbformat_minor": 0,
  "metadata": {
    "colab": {
      "provenance": [],
      "toc_visible": true,
      "authorship_tag": "ABX9TyP8bMwVyoGwAVZXG8APGqSR",
      "include_colab_link": true
    },
    "kernelspec": {
      "name": "python3",
      "display_name": "Python 3"
    },
    "language_info": {
      "name": "python"
    }
  },
  "cells": [
    {
      "cell_type": "markdown",
      "metadata": {
        "id": "view-in-github",
        "colab_type": "text"
      },
      "source": [
        "<a href=\"https://colab.research.google.com/github/davidklhui/stochastic-modelling/blob/main/Discussion_of_basic_3x3_Slot_design.ipynb\" target=\"_parent\"><img src=\"https://colab.research.google.com/assets/colab-badge.svg\" alt=\"Open In Colab\"/></a>"
      ]
    },
    {
      "cell_type": "markdown",
      "source": [
        "author: David K.L. Hui"
      ],
      "metadata": {
        "id": "ZulJwC7CcJKV"
      }
    },
    {
      "cell_type": "markdown",
      "source": [
        "This project will demonstrate the payout allocation of a simple 3x3 slot game design, simulation study, and further improvement.\n",
        "\n",
        "\n",
        "<figure>\n",
        "<center>\n",
        "<img src='https://drive.google.com/uc?export=view&id=12lNtk-bNGoHVTt6DL-vyyCSjziOsdKYy' width='400'/>\n",
        "<figcaption>Disclaimer: I do not own these images, I capture this from Google Images</figcaption></center>\n",
        "</figure>\n",
        "\n",
        "\n",
        "\n",
        "Further readings:\n",
        "\n",
        "\n",
        "[1] https://www.linkedin.com/pulse/slot-math-3-1-ace-cao/\n",
        "\n",
        "[2] https://www.linkedin.com/pulse/slot-math-3-3-ace-cao/\n",
        "\n",
        "[3] https://www.jeffbet.com/casino-guides/hit-frequency-slots/"
      ],
      "metadata": {
        "id": "elobULq2cS9C"
      }
    },
    {
      "cell_type": "markdown",
      "source": [
        "# Section 1: Introduction"
      ],
      "metadata": {
        "id": "2slSPRaadg5O"
      }
    },
    {
      "cell_type": "markdown",
      "source": [
        "## 1.1: Background\n",
        "\n",
        "Basic 3x1 and 3x3 slot games are the most classical design within Casino and iGaming history. Due to their simplicity, we can perform several analysis and discuss their validity of payout allocation strategies.\n",
        "\n",
        "To determine the payout for each matching, it is clear that it should depends upon the probability of the matching events. The higher the occurrence, the lower the payout.\n",
        "\n",
        "In our previous project **Stochastic Simulations - Spin Poker**, we have an mathematically intensive approach to study the payout allocation. In this project, we will use a simpler method to study these game design."
      ],
      "metadata": {
        "id": "6e6Kre3eek2o"
      }
    },
    {
      "cell_type": "markdown",
      "source": [
        "## 1.2: Objective\n",
        "\n",
        "Demostrate a basic 3x3 slot game design using simulations:\n",
        "1. fixed payout and changing the probability of occurrence of each symbols for each reel\n",
        "2. improve the game by adjusting the hit frequency"
      ],
      "metadata": {
        "id": "TD6Bi3NljYBA"
      }
    },
    {
      "cell_type": "markdown",
      "source": [
        "## 1.3: Definition\n",
        "\n",
        "For a 3x3 slot game, there will be 3 reels with 3 rows in the window. Each reel will have a number of symbols.\n",
        "\n",
        "In this project, will define the player will get payout only when, for each row, a certain combintaion of symbols matched."
      ],
      "metadata": {
        "id": "ei34PJSENDES"
      }
    },
    {
      "cell_type": "markdown",
      "source": [
        "## 1.4: Example\n",
        "\n",
        "Suppose there are 3 reels with 3 rows. For each reel, there are 4 possible symbols: Apple, Lemon, Kiwi Fruit (Kiwi for short), and Cheese 🍎🍋🥝🧀.\n",
        "\n",
        "For each payline, if it shows 3 identical fruits, 3 cheeses, or 3 different fruits, then the player will get corresponding payout.\n",
        "\n",
        "Suppose matched the same fruits will get 10 payout; 3 cheeses will get 15 payout; different fruits will get 5 payout:\n",
        "\n",
        "No matching: get 0 <br/>\n",
        "(for row 2, because cheese is not categorized as cheese, so would not count as matched different fruits)\n",
        "<table>\n",
        "    <tr>\n",
        "      <td bgcolor='#444444'>🍋</td><td bgcolor='#444444'>🍋</td><td bgcolor='#444444'>🧀</td>\n",
        "    </tr>\n",
        "    <tr>\n",
        "      <td bgcolor='#444444'>🧀</td><td bgcolor='#444444'>🍎</td><td bgcolor='#444444'>🥝</td>\n",
        "    </tr>\n",
        "    <tr>\n",
        "      <td bgcolor='#444444'>🍎</td><td bgcolor='#444444'>🍎</td><td bgcolor='#444444'>🥝</td>\n",
        "    </tr>\n",
        "</table>\n",
        "\n",
        "<br/>\n",
        "\n",
        "Row 1 matched: 3 🍋: get 10\n",
        "<table>\n",
        "    <tr>\n",
        "      <td bgcolor='#888888'>🍋</td><td bgcolor='#888888'>🍋</td><td bgcolor='#888888'>🍋</td>\n",
        "    </tr>\n",
        "    <tr>\n",
        "      <td bgcolor='#444444'>🧀</td><td bgcolor='#444444'>🍎</td><td bgcolor='#444444'>🥝</td>\n",
        "    </tr>\n",
        "    <tr>\n",
        "      <td bgcolor='#444444'>🍎</td><td bgcolor='#444444'>🍎</td><td bgcolor='#444444'>🥝</td>\n",
        "    </tr>\n",
        "</table>\n",
        "\n",
        "<br/>\n",
        "\n",
        "\n",
        "Row 1 matched: 3 🍋, Row 3 matched: 3 🧀 -> get 10 + 15 = 25\n",
        "<table>\n",
        "    <tr>\n",
        "      <td bgcolor='#888888'>🍋</td><td bgcolor='#888888'>🍋</td><td bgcolor='#888888'>🍋</td>\n",
        "    </tr>\n",
        "    <tr>\n",
        "      <td bgcolor='#444444'>🧀</td><td bgcolor='#444444'>🍎</td><td bgcolor='#444444'>🥝</td>\n",
        "    </tr>\n",
        "    <tr>\n",
        "      <td bgcolor='#888888'>🧀</td><td bgcolor='#888888'>🧀</td><td bgcolor='#888888'>🧀</td>\n",
        "    </tr>\n",
        "</table>\n",
        "\n",
        "<br/>\n",
        "\n",
        "Row 1 matched: 3 🍋, Row 2 matched: 3 🍎, Row 3 matched: different fruits -> get 10 + 10 + 5 = 25\n",
        "<table>\n",
        "    <tr>\n",
        "      <td bgcolor='#888888'>🍋</td><td bgcolor='#888888'>🍋</td><td bgcolor='#888888'>🍋</td>\n",
        "    </tr>\n",
        "    <tr>\n",
        "      <td bgcolor='#888888'>🍎</td><td bgcolor='#888888'>🍎</td><td bgcolor='#888888'>🍎</td>\n",
        "    </tr>\n",
        "    <tr>\n",
        "      <td bgcolor='#888888'>🍎</td><td bgcolor='#888888'>🥝</td><td bgcolor='#888888'>🍋</td>\n",
        "    </tr>\n",
        "</table>\n",
        "\n",
        "<br/>\n",
        "\n",
        "\n",
        "emojis are copied from [emojipedia](https://emojipedia.org/about)\n",
        "\n",
        "\n"
      ],
      "metadata": {
        "id": "dCsQ-8axen65"
      }
    },
    {
      "cell_type": "markdown",
      "source": [
        "# Section 2: Understanding the problem"
      ],
      "metadata": {
        "id": "LBe0cdsnPL92"
      }
    },
    {
      "cell_type": "markdown",
      "source": [
        "In this section, we will define all functions, classes, objects for simulation study. Although it is simple to calculate the probability of occurrence by high school maths, we will still use simulation for convenience and easy-to-change in later configurations"
      ],
      "metadata": {
        "id": "2vTkty-YgqWK"
      }
    },
    {
      "cell_type": "code",
      "source": [
        "# import related libraries\n",
        "import numpy as np\n",
        "import pandas as pd\n",
        "import matplotlib.pyplot as plt\n",
        "\n",
        "\n",
        "from collections import Counter\n"
      ],
      "metadata": {
        "id": "nq6-Vns6VR_V"
      },
      "execution_count": 4,
      "outputs": []
    },
    {
      "cell_type": "markdown",
      "source": [
        "## 2.1 Class Design"
      ],
      "metadata": {
        "id": "pR2kh9GBKLOk"
      }
    },
    {
      "cell_type": "code",
      "source": [
        "# define Symbol class, allow to not supplying probability, default to 0\n",
        "class Symbol():\n",
        "  def __init__(self, key, symbol, prob=0):\n",
        "    if(prob < 0 or prob > 1):\n",
        "      raise Exception(f\"probability must be within [0,1], received {symbol} has prob={prob}\")\n",
        "\n",
        "    self.key = key\n",
        "    self.symbol = symbol\n",
        "    self.prob = prob\n",
        "\n",
        "\n",
        "  def __repr__(self):\n",
        "    return self.symbol\n",
        "\n",
        "\n",
        "\n",
        "\n",
        "cheese = Symbol(0, '🧀')\n",
        "apple = Symbol(1, '🍎')\n",
        "lemon = Symbol(2, '🍋')\n",
        "kiwi = Symbol(3, '🥝')\n",
        "\n",
        "\n",
        "cheese, apple, lemon, kiwi"
      ],
      "metadata": {
        "colab": {
          "base_uri": "https://localhost:8080/"
        },
        "id": "w5muDWkjLAQc",
        "outputId": "867464e4-6a70-4370-c8bc-07e86704fd6e"
      },
      "execution_count": 5,
      "outputs": [
        {
          "output_type": "execute_result",
          "data": {
            "text/plain": [
              "(🧀, 🍎, 🍋, 🥝)"
            ]
          },
          "metadata": {},
          "execution_count": 5
        }
      ]
    },
    {
      "cell_type": "code",
      "source": [
        "# define a reel, which can provide the probability of apple, lemon, and kiwi\n",
        "# so for the 3-reels slot design, we can have different set of probabilities of symbols\n",
        "class Reel():\n",
        "  def __init__(self, apple_prob, lemon_prob, kiwi_prob):\n",
        "    self.apple = Symbol(1, '🍎', apple_prob)\n",
        "    self.lemon = Symbol(2, '🍋', lemon_prob)\n",
        "    self.kiwi = Symbol(3, '🥝', kiwi_prob)\n",
        "    self.cheese = Symbol(0, '🧀', 1 - apple_prob - lemon_prob - kiwi_prob)\n",
        "\n",
        "  def symbols(self):\n",
        "    return [self.apple, self.lemon, self.kiwi, self.cheese]\n",
        "\n",
        "  def probs(self):\n",
        "    return [x.prob for x in self.symbols()]\n",
        "\n",
        "  def spin(self, size):\n",
        "    return np.random.choice(a=self.symbols(), size=size, p=self.probs(), replace=True)\n",
        "\n",
        "\n",
        "# randomly set the probabilities, they are not important in this stage, but we will adjust them later\n",
        "reel1 = Reel(0.1, 0.2, 0.3)\n",
        "\n",
        "# take a look at the spin result, it will be a array of length 3\n",
        "reel1.spin(size=3)"
      ],
      "metadata": {
        "colab": {
          "base_uri": "https://localhost:8080/"
        },
        "id": "SMpePzH0M3nV",
        "outputId": "79702915-8366-46d6-bc24-adad1e15cd56"
      },
      "execution_count": 6,
      "outputs": [
        {
          "output_type": "execute_result",
          "data": {
            "text/plain": [
              "array([🍎, 🍋, 🧀], dtype=object)"
            ]
          },
          "metadata": {},
          "execution_count": 6
        }
      ]
    },
    {
      "cell_type": "code",
      "source": [
        "# similarly, set the prob of symbols occurrence for reel 2 and 3\n",
        "# again, these values are not important in this stage, we will update it later\n",
        "reel2 = Reel(0.2, 0.3, 0.4)\n",
        "reel3 = Reel(0.4, 0.4, 0.15)\n"
      ],
      "metadata": {
        "id": "gW48ziHvSPi1"
      },
      "execution_count": 7,
      "outputs": []
    },
    {
      "cell_type": "code",
      "source": [
        "# define the slot game which aceept 3 reels\n",
        "# for later usage, this can be extended to higher numbers, depending on the need\n",
        "# also, the spin accept size parameter, which is also changable to 5 for example, depending on the design\n",
        "class Slot():\n",
        "  def __init__(self, reel1, reel2, reel3):\n",
        "    self.reels = [reel1, reel2, reel3]\n",
        "\n",
        "  def spin(self, size=3):\n",
        "    reel1_outcome = self.reels[0].spin(size)\n",
        "    reel2_outcome = self.reels[1].spin(size)\n",
        "    reel3_outcome = self.reels[2].spin(size)\n",
        "\n",
        "    return np.c_[reel1_outcome, reel2_outcome, reel3_outcome]\n",
        "\n",
        "\n",
        "slot = Slot(reel1, reel2, reel3)\n",
        "\n",
        "# for easier checking, set the spin size be 4, so we should expect there are 4 rows x 3 columns (3 reels)\n",
        "slot.spin(4)"
      ],
      "metadata": {
        "colab": {
          "base_uri": "https://localhost:8080/"
        },
        "id": "8xckEys-YNpR",
        "outputId": "8e6873ba-4e11-4957-ddc3-b155c09ea574"
      },
      "execution_count": 8,
      "outputs": [
        {
          "output_type": "execute_result",
          "data": {
            "text/plain": [
              "array([[🧀, 🍎, 🥝],\n",
              "       [🥝, 🍎, 🧀],\n",
              "       [🧀, 🍋, 🍋],\n",
              "       [🍋, 🥝, 🍎]], dtype=object)"
            ]
          },
          "metadata": {},
          "execution_count": 8
        }
      ]
    },
    {
      "cell_type": "code",
      "source": [
        "# next, define how to calculate the payout\n",
        "# to be more variant, lets define having 5 different patterns\n",
        "payout_distinct_fruits = 5\n",
        "payout_all_apple = 10\n",
        "payout_all_lemon = 10\n",
        "payout_all_kiwi = 20\n",
        "payout_all_cheese = 50\n",
        "\n",
        "\n",
        "def payout(symbol1, symbol2, symbol3):\n",
        "  keys = symbol1.key, symbol2.key, symbol3.key\n",
        "\n",
        "  key_counts = Counter(keys)\n",
        "\n",
        "  # check if distinct fruits\n",
        "  if(sorted(keys) == [1,2,3]):\n",
        "    return payout_distinct_fruits\n",
        "\n",
        "  # check if same keys, if so, check if the first key is 0 (cheese) or > 0 (fruit)\n",
        "  elif(sorted(list(key_counts.values())) == [3]):\n",
        "    match(keys[0]):\n",
        "      case 0:\n",
        "        return payout_all_cheese\n",
        "      case 1:\n",
        "        return payout_all_apple\n",
        "      case 2:\n",
        "        return payout_all_lemon\n",
        "      case 3:\n",
        "        return payout_all_kiwi\n",
        "      case _: # should not happen\n",
        "        return 0\n",
        "\n",
        "  # else nothing\n",
        "  else:\n",
        "    return 0"
      ],
      "metadata": {
        "id": "RsX497VsZQsD"
      },
      "execution_count": 9,
      "outputs": []
    },
    {
      "cell_type": "code",
      "source": [
        "# with positive payout\n",
        "\n",
        "print(f\"same fruit (apple): {payout(apple, apple, apple)}\")\n",
        "\n",
        "print(f\"same fruit (lemon): {payout(lemon, lemon, lemon)}\")\n",
        "\n",
        "print(f\"same fruit (kiwi): {payout(kiwi, kiwi, kiwi)}\")\n",
        "\n",
        "print(f\"same cheese: {payout(cheese, cheese, cheese)}\")\n",
        "\n",
        "print(f\"distinct fruits: {payout(kiwi, lemon, apple)}\")\n",
        "\n"
      ],
      "metadata": {
        "colab": {
          "base_uri": "https://localhost:8080/"
        },
        "id": "noU5ukKTZR3U",
        "outputId": "2295f083-d577-4a28-9ee3-81a803fe3735"
      },
      "execution_count": 10,
      "outputs": [
        {
          "output_type": "stream",
          "name": "stdout",
          "text": [
            "same fruit (apple): 10\n",
            "same fruit (lemon): 10\n",
            "same fruit (kiwi): 20\n",
            "same cheese: 50\n",
            "distinct fruits: 5\n"
          ]
        }
      ]
    },
    {
      "cell_type": "code",
      "source": [
        "# no payout\n",
        "print(f\"no payout (kiwi, apple, kiwi): {payout(kiwi, apple, kiwi)}\")\n",
        "print(f\"no payout (cheese, apple, kiwi): {payout(cheese, apple, kiwi)}\")\n"
      ],
      "metadata": {
        "colab": {
          "base_uri": "https://localhost:8080/"
        },
        "id": "kqQdfJFxccIE",
        "outputId": "77491907-faa9-447e-d5e5-d77555d6c395"
      },
      "execution_count": 11,
      "outputs": [
        {
          "output_type": "stream",
          "name": "stdout",
          "text": [
            "no payout (kiwi, apple, kiwi): 0\n",
            "no payout (cheese, apple, kiwi): 0\n"
          ]
        }
      ]
    },
    {
      "cell_type": "code",
      "source": [
        "# take a look how to get the payout of a spin\n",
        "# just for verifying the payout calculation example, suppose the window has 10 rows\n",
        "outcome = slot.spin(10)\n",
        "print(outcome)\n",
        "\n",
        "payouts = [payout(payline[0], payline[1], payline[2]) for payline in outcome]\n",
        "\n",
        "print(payouts)"
      ],
      "metadata": {
        "colab": {
          "base_uri": "https://localhost:8080/"
        },
        "id": "dG62kOoIifiI",
        "outputId": "79196ecd-5b75-4b8d-a841-259863b5c505"
      },
      "execution_count": 12,
      "outputs": [
        {
          "output_type": "stream",
          "name": "stdout",
          "text": [
            "[[🥝 🥝 🍋]\n",
            " [🥝 🍎 🍎]\n",
            " [🥝 🍎 🍋]\n",
            " [🥝 🍎 🧀]\n",
            " [🧀 🍋 🍎]\n",
            " [🧀 🥝 🍋]\n",
            " [🧀 🥝 🧀]\n",
            " [🧀 🍎 🍎]\n",
            " [🧀 🧀 🍋]\n",
            " [🧀 🥝 🍎]]\n",
            "[0, 0, 5, 0, 0, 0, 0, 0, 0, 0]\n"
          ]
        }
      ]
    },
    {
      "cell_type": "markdown",
      "source": [
        "## 2.2: Simulations\n",
        "\n",
        "After we defined all these objects, we can then perform our simulations:\n",
        "\n",
        "STEP1: define a required size of outcome N <br/>\n",
        "STEP2: for each iteration <br/>\n",
        "$\\quad\\quad$STEP2.1: get a spin result <br/>\n",
        "$\\quad\\quad$STEP2.2: calculate the payout for each payline<br/>\n",
        "$\\quad\\quad$STEP2.3: count the occurrence<br/>\n",
        "STEP3: report the occurrence of each event that induced payout\n",
        ""
      ],
      "metadata": {
        "id": "sMZ_TAuZeBtY"
      }
    },
    {
      "cell_type": "code",
      "source": [
        "sim_size = 1000\n",
        "def simulation(sim_size):\n",
        "  outcome_df = pd.DataFrame(columns=[\"payline1\", \"payline2\", \"payline3\"])\n",
        "  for i in range(sim_size):\n",
        "    spin_outcome = slot.spin()\n",
        "    outcome_df.loc[i] = [payout(payline[0], payline[1], payline[2]) for payline in spin_outcome]\n",
        "  return outcome_df\n"
      ],
      "metadata": {
        "id": "8jwOcPHqfHj8"
      },
      "execution_count": 13,
      "outputs": []
    },
    {
      "cell_type": "code",
      "source": [
        "outcome_df = simulation(sim_size)"
      ],
      "metadata": {
        "id": "EFqvveOUjtU9"
      },
      "execution_count": 14,
      "outputs": []
    },
    {
      "cell_type": "code",
      "source": [
        "# the distribution for all paylines should be similar because of its independence\n",
        "outcome_df['payline1'].value_counts(), outcome_df['payline2'].value_counts(), outcome_df['payline3'].value_counts()"
      ],
      "metadata": {
        "colab": {
          "base_uri": "https://localhost:8080/"
        },
        "id": "BbWlggN9j_Bc",
        "outputId": "ee4acfab-736f-4c69-e8c1-7ecdfc6ac671"
      },
      "execution_count": 15,
      "outputs": [
        {
          "output_type": "execute_result",
          "data": {
            "text/plain": [
              "(payline1\n",
              " 0     833\n",
              " 5     126\n",
              " 10     23\n",
              " 20     12\n",
              " 50      6\n",
              " Name: count, dtype: int64,\n",
              " payline2\n",
              " 0     849\n",
              " 5      92\n",
              " 10     39\n",
              " 20     18\n",
              " 50      2\n",
              " Name: count, dtype: int64,\n",
              " payline3\n",
              " 0     825\n",
              " 5     123\n",
              " 10     33\n",
              " 20     16\n",
              " 50      3\n",
              " Name: count, dtype: int64)"
            ]
          },
          "metadata": {},
          "execution_count": 15
        }
      ]
    },
    {
      "cell_type": "code",
      "source": [
        "out1 = outcome_df['payline1'].value_counts()\n",
        "out2 = outcome_df['payline2'].value_counts()\n",
        "out3 = outcome_df['payline3'].value_counts()\n",
        "\n",
        "# using Series.add, with fill_value=0 to prevent missing index for some Series\n",
        "outcome_count_combined = out1.add(out2, fill_value=0).add(out3, fill_value=0)\n",
        "outcome_count_combined.rename_axis('payout', inplace=True)\n",
        "\n",
        "outcome = pd.DataFrame(outcome_count_combined)\n",
        "outcome = outcome.reset_index()\n",
        "outcome['prob'] = outcome['count'] / outcome_count_combined.sum()\n",
        "outcome['expectation'] = outcome['prob'] * outcome['payout']\n",
        "\n",
        "\n",
        "# although it doesn't make any sense, we will adjust the probability later\n",
        "outcome"
      ],
      "metadata": {
        "colab": {
          "base_uri": "https://localhost:8080/",
          "height": 204
        },
        "id": "_NU-PCVBl6Fp",
        "outputId": "11454be8-44ce-45e5-e4c8-a59d7f932bc8"
      },
      "execution_count": 16,
      "outputs": [
        {
          "output_type": "execute_result",
          "data": {
            "text/plain": [
              "   payout  count      prob  expectation\n",
              "0       0   2507  0.835667     0.000000\n",
              "1       5    341  0.113667     0.568333\n",
              "2      10     95  0.031667     0.316667\n",
              "3      20     46  0.015333     0.306667\n",
              "4      50     11  0.003667     0.183333"
            ],
            "text/html": [
              "\n",
              "  <div id=\"df-0a6ebb2a-88b0-4a1f-ab5f-4c6db6c4856f\" class=\"colab-df-container\">\n",
              "    <div>\n",
              "<style scoped>\n",
              "    .dataframe tbody tr th:only-of-type {\n",
              "        vertical-align: middle;\n",
              "    }\n",
              "\n",
              "    .dataframe tbody tr th {\n",
              "        vertical-align: top;\n",
              "    }\n",
              "\n",
              "    .dataframe thead th {\n",
              "        text-align: right;\n",
              "    }\n",
              "</style>\n",
              "<table border=\"1\" class=\"dataframe\">\n",
              "  <thead>\n",
              "    <tr style=\"text-align: right;\">\n",
              "      <th></th>\n",
              "      <th>payout</th>\n",
              "      <th>count</th>\n",
              "      <th>prob</th>\n",
              "      <th>expectation</th>\n",
              "    </tr>\n",
              "  </thead>\n",
              "  <tbody>\n",
              "    <tr>\n",
              "      <th>0</th>\n",
              "      <td>0</td>\n",
              "      <td>2507</td>\n",
              "      <td>0.835667</td>\n",
              "      <td>0.000000</td>\n",
              "    </tr>\n",
              "    <tr>\n",
              "      <th>1</th>\n",
              "      <td>5</td>\n",
              "      <td>341</td>\n",
              "      <td>0.113667</td>\n",
              "      <td>0.568333</td>\n",
              "    </tr>\n",
              "    <tr>\n",
              "      <th>2</th>\n",
              "      <td>10</td>\n",
              "      <td>95</td>\n",
              "      <td>0.031667</td>\n",
              "      <td>0.316667</td>\n",
              "    </tr>\n",
              "    <tr>\n",
              "      <th>3</th>\n",
              "      <td>20</td>\n",
              "      <td>46</td>\n",
              "      <td>0.015333</td>\n",
              "      <td>0.306667</td>\n",
              "    </tr>\n",
              "    <tr>\n",
              "      <th>4</th>\n",
              "      <td>50</td>\n",
              "      <td>11</td>\n",
              "      <td>0.003667</td>\n",
              "      <td>0.183333</td>\n",
              "    </tr>\n",
              "  </tbody>\n",
              "</table>\n",
              "</div>\n",
              "    <div class=\"colab-df-buttons\">\n",
              "\n",
              "  <div class=\"colab-df-container\">\n",
              "    <button class=\"colab-df-convert\" onclick=\"convertToInteractive('df-0a6ebb2a-88b0-4a1f-ab5f-4c6db6c4856f')\"\n",
              "            title=\"Convert this dataframe to an interactive table.\"\n",
              "            style=\"display:none;\">\n",
              "\n",
              "  <svg xmlns=\"http://www.w3.org/2000/svg\" height=\"24px\" viewBox=\"0 -960 960 960\">\n",
              "    <path d=\"M120-120v-720h720v720H120Zm60-500h600v-160H180v160Zm220 220h160v-160H400v160Zm0 220h160v-160H400v160ZM180-400h160v-160H180v160Zm440 0h160v-160H620v160ZM180-180h160v-160H180v160Zm440 0h160v-160H620v160Z\"/>\n",
              "  </svg>\n",
              "    </button>\n",
              "\n",
              "  <style>\n",
              "    .colab-df-container {\n",
              "      display:flex;\n",
              "      gap: 12px;\n",
              "    }\n",
              "\n",
              "    .colab-df-convert {\n",
              "      background-color: #E8F0FE;\n",
              "      border: none;\n",
              "      border-radius: 50%;\n",
              "      cursor: pointer;\n",
              "      display: none;\n",
              "      fill: #1967D2;\n",
              "      height: 32px;\n",
              "      padding: 0 0 0 0;\n",
              "      width: 32px;\n",
              "    }\n",
              "\n",
              "    .colab-df-convert:hover {\n",
              "      background-color: #E2EBFA;\n",
              "      box-shadow: 0px 1px 2px rgba(60, 64, 67, 0.3), 0px 1px 3px 1px rgba(60, 64, 67, 0.15);\n",
              "      fill: #174EA6;\n",
              "    }\n",
              "\n",
              "    .colab-df-buttons div {\n",
              "      margin-bottom: 4px;\n",
              "    }\n",
              "\n",
              "    [theme=dark] .colab-df-convert {\n",
              "      background-color: #3B4455;\n",
              "      fill: #D2E3FC;\n",
              "    }\n",
              "\n",
              "    [theme=dark] .colab-df-convert:hover {\n",
              "      background-color: #434B5C;\n",
              "      box-shadow: 0px 1px 3px 1px rgba(0, 0, 0, 0.15);\n",
              "      filter: drop-shadow(0px 1px 2px rgba(0, 0, 0, 0.3));\n",
              "      fill: #FFFFFF;\n",
              "    }\n",
              "  </style>\n",
              "\n",
              "    <script>\n",
              "      const buttonEl =\n",
              "        document.querySelector('#df-0a6ebb2a-88b0-4a1f-ab5f-4c6db6c4856f button.colab-df-convert');\n",
              "      buttonEl.style.display =\n",
              "        google.colab.kernel.accessAllowed ? 'block' : 'none';\n",
              "\n",
              "      async function convertToInteractive(key) {\n",
              "        const element = document.querySelector('#df-0a6ebb2a-88b0-4a1f-ab5f-4c6db6c4856f');\n",
              "        const dataTable =\n",
              "          await google.colab.kernel.invokeFunction('convertToInteractive',\n",
              "                                                    [key], {});\n",
              "        if (!dataTable) return;\n",
              "\n",
              "        const docLinkHtml = 'Like what you see? Visit the ' +\n",
              "          '<a target=\"_blank\" href=https://colab.research.google.com/notebooks/data_table.ipynb>data table notebook</a>'\n",
              "          + ' to learn more about interactive tables.';\n",
              "        element.innerHTML = '';\n",
              "        dataTable['output_type'] = 'display_data';\n",
              "        await google.colab.output.renderOutput(dataTable, element);\n",
              "        const docLink = document.createElement('div');\n",
              "        docLink.innerHTML = docLinkHtml;\n",
              "        element.appendChild(docLink);\n",
              "      }\n",
              "    </script>\n",
              "  </div>\n",
              "\n",
              "\n",
              "<div id=\"df-f325614d-5ea2-4629-b938-d1e7472be1e1\">\n",
              "  <button class=\"colab-df-quickchart\" onclick=\"quickchart('df-f325614d-5ea2-4629-b938-d1e7472be1e1')\"\n",
              "            title=\"Suggest charts\"\n",
              "            style=\"display:none;\">\n",
              "\n",
              "<svg xmlns=\"http://www.w3.org/2000/svg\" height=\"24px\"viewBox=\"0 0 24 24\"\n",
              "     width=\"24px\">\n",
              "    <g>\n",
              "        <path d=\"M19 3H5c-1.1 0-2 .9-2 2v14c0 1.1.9 2 2 2h14c1.1 0 2-.9 2-2V5c0-1.1-.9-2-2-2zM9 17H7v-7h2v7zm4 0h-2V7h2v10zm4 0h-2v-4h2v4z\"/>\n",
              "    </g>\n",
              "</svg>\n",
              "  </button>\n",
              "\n",
              "<style>\n",
              "  .colab-df-quickchart {\n",
              "      --bg-color: #E8F0FE;\n",
              "      --fill-color: #1967D2;\n",
              "      --hover-bg-color: #E2EBFA;\n",
              "      --hover-fill-color: #174EA6;\n",
              "      --disabled-fill-color: #AAA;\n",
              "      --disabled-bg-color: #DDD;\n",
              "  }\n",
              "\n",
              "  [theme=dark] .colab-df-quickchart {\n",
              "      --bg-color: #3B4455;\n",
              "      --fill-color: #D2E3FC;\n",
              "      --hover-bg-color: #434B5C;\n",
              "      --hover-fill-color: #FFFFFF;\n",
              "      --disabled-bg-color: #3B4455;\n",
              "      --disabled-fill-color: #666;\n",
              "  }\n",
              "\n",
              "  .colab-df-quickchart {\n",
              "    background-color: var(--bg-color);\n",
              "    border: none;\n",
              "    border-radius: 50%;\n",
              "    cursor: pointer;\n",
              "    display: none;\n",
              "    fill: var(--fill-color);\n",
              "    height: 32px;\n",
              "    padding: 0;\n",
              "    width: 32px;\n",
              "  }\n",
              "\n",
              "  .colab-df-quickchart:hover {\n",
              "    background-color: var(--hover-bg-color);\n",
              "    box-shadow: 0 1px 2px rgba(60, 64, 67, 0.3), 0 1px 3px 1px rgba(60, 64, 67, 0.15);\n",
              "    fill: var(--button-hover-fill-color);\n",
              "  }\n",
              "\n",
              "  .colab-df-quickchart-complete:disabled,\n",
              "  .colab-df-quickchart-complete:disabled:hover {\n",
              "    background-color: var(--disabled-bg-color);\n",
              "    fill: var(--disabled-fill-color);\n",
              "    box-shadow: none;\n",
              "  }\n",
              "\n",
              "  .colab-df-spinner {\n",
              "    border: 2px solid var(--fill-color);\n",
              "    border-color: transparent;\n",
              "    border-bottom-color: var(--fill-color);\n",
              "    animation:\n",
              "      spin 1s steps(1) infinite;\n",
              "  }\n",
              "\n",
              "  @keyframes spin {\n",
              "    0% {\n",
              "      border-color: transparent;\n",
              "      border-bottom-color: var(--fill-color);\n",
              "      border-left-color: var(--fill-color);\n",
              "    }\n",
              "    20% {\n",
              "      border-color: transparent;\n",
              "      border-left-color: var(--fill-color);\n",
              "      border-top-color: var(--fill-color);\n",
              "    }\n",
              "    30% {\n",
              "      border-color: transparent;\n",
              "      border-left-color: var(--fill-color);\n",
              "      border-top-color: var(--fill-color);\n",
              "      border-right-color: var(--fill-color);\n",
              "    }\n",
              "    40% {\n",
              "      border-color: transparent;\n",
              "      border-right-color: var(--fill-color);\n",
              "      border-top-color: var(--fill-color);\n",
              "    }\n",
              "    60% {\n",
              "      border-color: transparent;\n",
              "      border-right-color: var(--fill-color);\n",
              "    }\n",
              "    80% {\n",
              "      border-color: transparent;\n",
              "      border-right-color: var(--fill-color);\n",
              "      border-bottom-color: var(--fill-color);\n",
              "    }\n",
              "    90% {\n",
              "      border-color: transparent;\n",
              "      border-bottom-color: var(--fill-color);\n",
              "    }\n",
              "  }\n",
              "</style>\n",
              "\n",
              "  <script>\n",
              "    async function quickchart(key) {\n",
              "      const quickchartButtonEl =\n",
              "        document.querySelector('#' + key + ' button');\n",
              "      quickchartButtonEl.disabled = true;  // To prevent multiple clicks.\n",
              "      quickchartButtonEl.classList.add('colab-df-spinner');\n",
              "      try {\n",
              "        const charts = await google.colab.kernel.invokeFunction(\n",
              "            'suggestCharts', [key], {});\n",
              "      } catch (error) {\n",
              "        console.error('Error during call to suggestCharts:', error);\n",
              "      }\n",
              "      quickchartButtonEl.classList.remove('colab-df-spinner');\n",
              "      quickchartButtonEl.classList.add('colab-df-quickchart-complete');\n",
              "    }\n",
              "    (() => {\n",
              "      let quickchartButtonEl =\n",
              "        document.querySelector('#df-f325614d-5ea2-4629-b938-d1e7472be1e1 button');\n",
              "      quickchartButtonEl.style.display =\n",
              "        google.colab.kernel.accessAllowed ? 'block' : 'none';\n",
              "    })();\n",
              "  </script>\n",
              "</div>\n",
              "    </div>\n",
              "  </div>\n"
            ],
            "application/vnd.google.colaboratory.intrinsic+json": {
              "type": "dataframe",
              "variable_name": "outcome",
              "summary": "{\n  \"name\": \"outcome\",\n  \"rows\": 5,\n  \"fields\": [\n    {\n      \"column\": \"payout\",\n      \"properties\": {\n        \"dtype\": \"number\",\n        \"std\": 19,\n        \"min\": 0,\n        \"max\": 50,\n        \"num_unique_values\": 5,\n        \"samples\": [\n          5,\n          50,\n          10\n        ],\n        \"semantic_type\": \"\",\n        \"description\": \"\"\n      }\n    },\n    {\n      \"column\": \"count\",\n      \"properties\": {\n        \"dtype\": \"number\",\n        \"std\": 1073,\n        \"min\": 11,\n        \"max\": 2507,\n        \"num_unique_values\": 5,\n        \"samples\": [\n          341,\n          11,\n          95\n        ],\n        \"semantic_type\": \"\",\n        \"description\": \"\"\n      }\n    },\n    {\n      \"column\": \"prob\",\n      \"properties\": {\n        \"dtype\": \"number\",\n        \"std\": 0.35794909631895366,\n        \"min\": 0.0036666666666666666,\n        \"max\": 0.8356666666666667,\n        \"num_unique_values\": 5,\n        \"samples\": [\n          0.11366666666666667,\n          0.0036666666666666666,\n          0.03166666666666667\n        ],\n        \"semantic_type\": \"\",\n        \"description\": \"\"\n      }\n    },\n    {\n      \"column\": \"expectation\",\n      \"properties\": {\n        \"dtype\": \"number\",\n        \"std\": 0.20785277909563246,\n        \"min\": 0.0,\n        \"max\": 0.5683333333333334,\n        \"num_unique_values\": 5,\n        \"samples\": [\n          0.5683333333333334,\n          0.18333333333333332,\n          0.3166666666666667\n        ],\n        \"semantic_type\": \"\",\n        \"description\": \"\"\n      }\n    }\n  ]\n}"
            }
          },
          "metadata": {},
          "execution_count": 16
        }
      ]
    },
    {
      "cell_type": "code",
      "source": [
        "# the expected payout for each horizontal payline, and so we can get the expected payout for each spin\n",
        "\n",
        "expected_payout_payline = outcome['expectation'].sum()\n",
        "expected_payout = expected_payout_payline * 3\n",
        "\n",
        "\n",
        "expected_payout_payline, expected_payout"
      ],
      "metadata": {
        "colab": {
          "base_uri": "https://localhost:8080/"
        },
        "id": "iWRKSTBrrwT0",
        "outputId": "86cd4577-e9a6-4f19-81d6-585f4ef21d1b"
      },
      "execution_count": 17,
      "outputs": [
        {
          "output_type": "execute_result",
          "data": {
            "text/plain": [
              "(1.375, 4.125)"
            ]
          },
          "metadata": {},
          "execution_count": 17
        }
      ]
    },
    {
      "cell_type": "markdown",
      "source": [
        "## 2.3: Metrics to evaluate the performance of the game: RTP, and Expected gain\n"
      ],
      "metadata": {
        "id": "1tE98qBNr2LL"
      }
    },
    {
      "cell_type": "markdown",
      "source": [
        "### 2.3.1: RTP (Return to Player)\n",
        "\n",
        "\n",
        "Using the definition of\n",
        "RTP = $\\frac{win}{bet} \\times 100\\%$, where win is the expected payout, and bet is the cost. According to the result of the referenced articule, we should keep the RTP between 95% to 97% for better game experience.\n",
        "\n",
        "Suppose now the cost be 10, and from the above study the expected payout is 8.545, so the RTP is"
      ],
      "metadata": {
        "id": "-NSpgDeltc1H"
      }
    },
    {
      "cell_type": "code",
      "source": [
        "RTP = expected_payout / 10 * 100\n",
        "RTP"
      ],
      "metadata": {
        "colab": {
          "base_uri": "https://localhost:8080/"
        },
        "id": "V0UyF7uMseFl",
        "outputId": "a05513b1-7d0d-4e05-fcec-a7e8da3c8fd8"
      },
      "execution_count": 18,
      "outputs": [
        {
          "output_type": "execute_result",
          "data": {
            "text/plain": [
              "41.25"
            ]
          },
          "metadata": {},
          "execution_count": 18
        }
      ]
    },
    {
      "cell_type": "markdown",
      "source": [
        "using the definition, we can see that 85% RTP should have bad player experience"
      ],
      "metadata": {
        "id": "KTeHx_8Ksdnp"
      }
    },
    {
      "cell_type": "markdown",
      "source": [
        "### 2.3.2: Expected gain\n",
        "\n",
        "Expected gain, which is simply using the definition expectation of basic probability and statistics. My previous project is using expected gain to control the optimization problem. It is obvious that RTP and expected gain are closely related\n",
        "\n",
        "\\begin{align}\n",
        "E(gain) &= E(payout) - cost \\\\\n",
        "        &= win - bet \\\\\n",
        "        &= bet \\times (\\frac{win}{bet} - 1) \\\\\n",
        "        &= bet \\times (\\frac{win}{bet} - 1) \\times \\text{100%} \\\\\n",
        "        &= bet \\times \\text{RTP}\n",
        "\\end{align}\n",
        "\n",
        "\n",
        "So all algorithm and methodologies used in the previous project are clearly valid."
      ],
      "metadata": {
        "id": "0ofxJeAatvaW"
      }
    },
    {
      "cell_type": "markdown",
      "source": [
        "In the consequence sections, we will use RTP for discussion"
      ],
      "metadata": {
        "id": "GxpXGa2cv56k"
      }
    },
    {
      "cell_type": "markdown",
      "source": [
        "# Section 3: Problem Formulation\n",
        "\n",
        "In this section, we will discuss how to adjust the configurations to achieve good player experience using RTP by fixed payout and adjust the probability of symbols in each reel"
      ],
      "metadata": {
        "id": "eRpdR-n6wCNY"
      }
    },
    {
      "cell_type": "markdown",
      "source": [
        "## 3.1: Formulation\n",
        "\n",
        "Suppose our slot game configuration:\n",
        "1. cost (bet) = 10\n",
        "2. payout_distinct_fruits = 5\n",
        "3. payout_all_apple = 10\n",
        "4. payout_all_lemon = 10\n",
        "5. payout_all_kiwi = 20\n",
        "6. payout_all_cheese = 50\n",
        "7. payline is for each row (horizontal line only, not concerning diagonal)\n",
        "\n",
        "\n",
        "Recall that, each reel $i=1,2,3$ has 4 possible symbols with 4 corresponding probabilities:\n",
        "\n",
        "$$\n",
        "\\sum_{j=1}^4 p_{i,j} = 1\n",
        "$$\n",
        "\n",
        "So, we will have 3 * (4-1) = 9 adjustable parameters.\n",
        "\n",
        "For each reel, we can use deterministic method to divide the domain [0,1]x[0,1]x[0,1] into equal width and loop over them. But this will induce 2 major problems:\n",
        "1. inefficient because we need to perform this operation over 3 reels. If we need to take a step size h, then we need to calculate $(\\frac{1}{h})^{(3x3)}$ times.\n",
        "2. we need to keep the sum of probability of each reel to be 1\n",
        "\n",
        "One elegant method is to use simulation. In probability theory, we can use one famous distribution called Dirichlet distribution.\n",
        "\n",
        "Dirichlet distribution is a well known multivariate distribution that can generate values of different length, keeping their sum up to 1. Dirichlet distribution is also known as multivariate Beta distribution, where (univaraite) Beta distribution is well known as its capability of simulating probbility because of its support [0,1]\n",
        "\n",
        "Although the clear drawback of this method is we needs to simulate large number of outcomes in order to get global optimal, this is still much better than dividing the domain in deterministic method\n",
        "\n",
        "\n",
        "For more detail, please see https://en.wikipedia.org/wiki/Dirichlet_distribution\n"
      ],
      "metadata": {
        "id": "A4uqRrN7wa73"
      }
    },
    {
      "cell_type": "code",
      "source": [
        "# for example, using the same parameters\n",
        "x = np.random.dirichlet(np.ones(4))\n",
        "\n",
        "print(x)\n",
        "print(sum(x))"
      ],
      "metadata": {
        "colab": {
          "base_uri": "https://localhost:8080/"
        },
        "id": "6wzMkye3w5uQ",
        "outputId": "15d8d060-a801-4a21-ec80-cf0b1f796f32"
      },
      "execution_count": 19,
      "outputs": [
        {
          "output_type": "stream",
          "name": "stdout",
          "text": [
            "[0.24428507 0.58535388 0.15712774 0.01323332]\n",
            "1.0000000000000002\n"
          ]
        }
      ]
    },
    {
      "cell_type": "code",
      "source": [
        "y = np.random.dirichlet(alpha=np.ones(4), size=3)\n",
        "\n",
        "print(y)\n",
        "\n",
        "y.sum(axis=1)"
      ],
      "metadata": {
        "colab": {
          "base_uri": "https://localhost:8080/"
        },
        "id": "7mEahilEKgHk",
        "outputId": "611039fb-afb6-4af6-99ea-3935d40b4c66"
      },
      "execution_count": 20,
      "outputs": [
        {
          "output_type": "stream",
          "name": "stdout",
          "text": [
            "[[0.39733013 0.46558542 0.01746576 0.11961869]\n",
            " [0.16390236 0.23784332 0.20960153 0.38865278]\n",
            " [0.52408137 0.18793686 0.01154994 0.27643184]]\n"
          ]
        },
        {
          "output_type": "execute_result",
          "data": {
            "text/plain": [
              "array([1., 1., 1.])"
            ]
          },
          "metadata": {},
          "execution_count": 20
        }
      ]
    },
    {
      "cell_type": "markdown",
      "source": [
        "## 3.2: Programming\n",
        "\n",
        "Here we will use some codes from above\n"
      ],
      "metadata": {
        "id": "BcG07TyP5Drn"
      }
    },
    {
      "cell_type": "code",
      "source": [
        "\n",
        "class SlotSim():\n",
        "\n",
        "  def __init__(self, sim_size, sim_size_for_probs, cost):\n",
        "    self.sim_size = sim_size\n",
        "    self.sim_size_for_probs = sim_size_for_probs\n",
        "    self.cost = cost\n",
        "    self.results = [None] * sim_size\n",
        "\n",
        "    self.sim()\n",
        "\n",
        "  def sim(self):\n",
        "    for i in range(self.sim_size):\n",
        "      print(i)\n",
        "      ssi = self.SlotSimInternal(self.sim_size_for_probs, self.cost)\n",
        "\n",
        "      self.results[i] = ssi\n",
        "\n",
        "\n",
        "\n",
        "\n",
        "  class SlotSimInternal():\n",
        "    def __init__(self, sim_size_for_probs, cost):\n",
        "      dirichlet = np.random.dirichlet(np.ones(4), size=3)\n",
        "      slot = Slot(reel1=Reel(dirichlet[0][0], dirichlet[0][1], dirichlet[0][2]),\n",
        "                    reel2=Reel(dirichlet[1][0], dirichlet[1][1], dirichlet[1][2]),\n",
        "                    reel3=Reel(dirichlet[2][0], dirichlet[2][1], dirichlet[2][2]))\n",
        "\n",
        "      self.sim_size = sim_size\n",
        "      self.sim_size_for_probs = sim_size_for_probs\n",
        "      self.cost = cost\n",
        "      self.slot = slot\n",
        "      self.outcome = None\n",
        "\n",
        "      self.train()\n",
        "      self.RTP = self.calculate_RTP()\n",
        "\n",
        "\n",
        "    def train(self):\n",
        "      outcome_df = pd.DataFrame(columns=[\"payline1\", \"payline2\", \"payline3\"])\n",
        "      for i in range(self.sim_size_for_probs):\n",
        "        spin_outcome = self.slot.spin()\n",
        "        outcome_df.loc[i] = [payout(payline[0], payline[1], payline[2]) for payline in spin_outcome]\n",
        "\n",
        "      out1 = outcome_df['payline1'].value_counts()\n",
        "      out2 = outcome_df['payline2'].value_counts()\n",
        "      out3 = outcome_df['payline3'].value_counts()\n",
        "\n",
        "      outcome_count_combined = out1.add(out2, fill_value=0).add(out3, fill_value=0)\n",
        "      outcome_count_combined.rename_axis('payout', inplace=True)\n",
        "\n",
        "      outcome = pd.DataFrame(outcome_count_combined)\n",
        "      outcome = outcome.reset_index()\n",
        "      outcome['prob'] = outcome['count'] / outcome_count_combined.sum()\n",
        "      outcome['expectation'] = outcome['prob'] * outcome['payout']\n",
        "\n",
        "      self.outcome = outcome\n",
        "\n",
        "    def calculate_RTP(self):\n",
        "      expected_payout_payline = self.outcome['expectation'].sum()\n",
        "      expected_payout = expected_payout_payline * 3\n",
        "      self.expected_payout = expected_payout\n",
        "      self.expected_gain = expected_payout - self.cost\n",
        "      return expected_payout / 10 * 100\n"
      ],
      "metadata": {
        "id": "b1WhOjW4AcVE"
      },
      "execution_count": 21,
      "outputs": []
    },
    {
      "cell_type": "code",
      "source": [
        "x = SlotSim(200, 10000, 10)\n"
      ],
      "metadata": {
        "colab": {
          "base_uri": "https://localhost:8080/"
        },
        "id": "mG1Me5pkOfr5",
        "outputId": "8a10ec7a-2ee4-4cf8-ca09-2fd26026b1a7"
      },
      "execution_count": 22,
      "outputs": [
        {
          "output_type": "stream",
          "name": "stdout",
          "text": [
            "0\n",
            "1\n",
            "2\n",
            "3\n",
            "4\n",
            "5\n",
            "6\n",
            "7\n",
            "8\n",
            "9\n",
            "10\n",
            "11\n",
            "12\n",
            "13\n",
            "14\n",
            "15\n",
            "16\n",
            "17\n",
            "18\n",
            "19\n",
            "20\n",
            "21\n",
            "22\n",
            "23\n",
            "24\n",
            "25\n",
            "26\n",
            "27\n",
            "28\n",
            "29\n",
            "30\n",
            "31\n",
            "32\n",
            "33\n",
            "34\n",
            "35\n",
            "36\n",
            "37\n",
            "38\n",
            "39\n",
            "40\n",
            "41\n",
            "42\n",
            "43\n",
            "44\n",
            "45\n",
            "46\n",
            "47\n",
            "48\n",
            "49\n",
            "50\n",
            "51\n",
            "52\n",
            "53\n",
            "54\n",
            "55\n",
            "56\n",
            "57\n",
            "58\n",
            "59\n",
            "60\n",
            "61\n",
            "62\n",
            "63\n",
            "64\n",
            "65\n",
            "66\n",
            "67\n",
            "68\n",
            "69\n",
            "70\n",
            "71\n",
            "72\n",
            "73\n",
            "74\n",
            "75\n",
            "76\n",
            "77\n",
            "78\n",
            "79\n",
            "80\n",
            "81\n",
            "82\n",
            "83\n",
            "84\n",
            "85\n",
            "86\n",
            "87\n",
            "88\n",
            "89\n",
            "90\n",
            "91\n",
            "92\n",
            "93\n",
            "94\n",
            "95\n",
            "96\n",
            "97\n",
            "98\n",
            "99\n",
            "100\n",
            "101\n",
            "102\n",
            "103\n",
            "104\n",
            "105\n",
            "106\n",
            "107\n",
            "108\n",
            "109\n",
            "110\n",
            "111\n",
            "112\n",
            "113\n",
            "114\n",
            "115\n",
            "116\n",
            "117\n",
            "118\n",
            "119\n",
            "120\n",
            "121\n",
            "122\n",
            "123\n",
            "124\n",
            "125\n",
            "126\n",
            "127\n",
            "128\n",
            "129\n",
            "130\n",
            "131\n",
            "132\n",
            "133\n",
            "134\n",
            "135\n",
            "136\n",
            "137\n",
            "138\n",
            "139\n",
            "140\n",
            "141\n",
            "142\n",
            "143\n",
            "144\n",
            "145\n",
            "146\n",
            "147\n",
            "148\n",
            "149\n",
            "150\n",
            "151\n",
            "152\n",
            "153\n",
            "154\n",
            "155\n",
            "156\n",
            "157\n",
            "158\n",
            "159\n",
            "160\n",
            "161\n",
            "162\n",
            "163\n",
            "164\n",
            "165\n",
            "166\n",
            "167\n",
            "168\n",
            "169\n",
            "170\n",
            "171\n",
            "172\n",
            "173\n",
            "174\n",
            "175\n",
            "176\n",
            "178\n",
            "179\n",
            "180\n",
            "181\n",
            "182\n",
            "183\n",
            "184\n",
            "185\n",
            "186\n",
            "187\n",
            "188\n",
            "189\n",
            "190\n",
            "191\n",
            "192\n",
            "193\n",
            "194\n",
            "195\n",
            "196\n",
            "197\n",
            "198\n",
            "199\n"
          ]
        }
      ]
    },
    {
      "cell_type": "code",
      "source": [
        "# save the data for later session to use\n",
        "\n",
        "import pickle\n",
        "\n",
        "\n",
        "with open('x.pkl', 'wb') as file:\n",
        "    pickle.dump(x, file)"
      ],
      "metadata": {
        "id": "zhYRzSRdVJDM"
      },
      "execution_count": 24,
      "outputs": []
    },
    {
      "cell_type": "code",
      "source": [
        "# load the data in case the session restarted, also required to re-execute classes/functions from above\n",
        "\n",
        "import pickle\n",
        "import numpy as np\n",
        "import pandas as pd\n",
        "import matplotlib.pyplot as plt\n",
        "\n",
        "with open(r\"x.pkl\", \"rb\") as input_file:\n",
        "  x = pickle.load(input_file)"
      ],
      "metadata": {
        "id": "FimCE4bPA2xr"
      },
      "execution_count": 23,
      "outputs": []
    },
    {
      "cell_type": "markdown",
      "source": [
        "## 3.3: Simulation Result"
      ],
      "metadata": {
        "id": "SlrWAZMJ3ZhN"
      }
    },
    {
      "cell_type": "code",
      "source": [
        "for i in range(200):\n",
        "  rtp = x.results[i].RTP\n",
        "  if rtp > 90 and rtp < 100:\n",
        "    print(f\"i={i}, RTP={rtp}\")"
      ],
      "metadata": {
        "colab": {
          "base_uri": "https://localhost:8080/"
        },
        "id": "9zwQSAukOhjs",
        "outputId": "f7e8ac16-2ac4-4e9e-d736-4cea3f9006fd"
      },
      "execution_count": 25,
      "outputs": [
        {
          "output_type": "stream",
          "name": "stdout",
          "text": [
            "i=41, RTP=91.86500000000001\n",
            "i=61, RTP=90.40000000000002\n",
            "i=135, RTP=95.87500000000003\n",
            "i=139, RTP=99.25\n"
          ]
        }
      ]
    },
    {
      "cell_type": "markdown",
      "source": [
        "out of 200 results, we find that i=135 seemed to have the best RTP"
      ],
      "metadata": {
        "id": "vQ0Ii2xAr6PK"
      }
    },
    {
      "cell_type": "code",
      "source": [
        "config_best = x.results[135]"
      ],
      "metadata": {
        "id": "37y06gQ6sbT7"
      },
      "execution_count": 26,
      "outputs": []
    },
    {
      "cell_type": "code",
      "source": [
        "config_best.outcome"
      ],
      "metadata": {
        "colab": {
          "base_uri": "https://localhost:8080/",
          "height": 204
        },
        "id": "lpYQ74v8sdh8",
        "outputId": "2c5da7a3-c3ad-4502-efa2-d6fb0843d659"
      },
      "execution_count": 27,
      "outputs": [
        {
          "output_type": "execute_result",
          "data": {
            "text/plain": [
              "   payout  count      prob  expectation\n",
              "0       0  23663  0.788767     0.000000\n",
              "1      20   3276  0.109200     2.184000\n",
              "2       5   2699  0.089967     0.449833\n",
              "3      50    331  0.011033     0.551667\n",
              "4      10     31  0.001033     0.010333"
            ],
            "text/html": [
              "\n",
              "  <div id=\"df-f27cd8ba-cd19-4fcd-a068-568bc912b0a5\" class=\"colab-df-container\">\n",
              "    <div>\n",
              "<style scoped>\n",
              "    .dataframe tbody tr th:only-of-type {\n",
              "        vertical-align: middle;\n",
              "    }\n",
              "\n",
              "    .dataframe tbody tr th {\n",
              "        vertical-align: top;\n",
              "    }\n",
              "\n",
              "    .dataframe thead th {\n",
              "        text-align: right;\n",
              "    }\n",
              "</style>\n",
              "<table border=\"1\" class=\"dataframe\">\n",
              "  <thead>\n",
              "    <tr style=\"text-align: right;\">\n",
              "      <th></th>\n",
              "      <th>payout</th>\n",
              "      <th>count</th>\n",
              "      <th>prob</th>\n",
              "      <th>expectation</th>\n",
              "    </tr>\n",
              "  </thead>\n",
              "  <tbody>\n",
              "    <tr>\n",
              "      <th>0</th>\n",
              "      <td>0</td>\n",
              "      <td>23663</td>\n",
              "      <td>0.788767</td>\n",
              "      <td>0.000000</td>\n",
              "    </tr>\n",
              "    <tr>\n",
              "      <th>1</th>\n",
              "      <td>20</td>\n",
              "      <td>3276</td>\n",
              "      <td>0.109200</td>\n",
              "      <td>2.184000</td>\n",
              "    </tr>\n",
              "    <tr>\n",
              "      <th>2</th>\n",
              "      <td>5</td>\n",
              "      <td>2699</td>\n",
              "      <td>0.089967</td>\n",
              "      <td>0.449833</td>\n",
              "    </tr>\n",
              "    <tr>\n",
              "      <th>3</th>\n",
              "      <td>50</td>\n",
              "      <td>331</td>\n",
              "      <td>0.011033</td>\n",
              "      <td>0.551667</td>\n",
              "    </tr>\n",
              "    <tr>\n",
              "      <th>4</th>\n",
              "      <td>10</td>\n",
              "      <td>31</td>\n",
              "      <td>0.001033</td>\n",
              "      <td>0.010333</td>\n",
              "    </tr>\n",
              "  </tbody>\n",
              "</table>\n",
              "</div>\n",
              "    <div class=\"colab-df-buttons\">\n",
              "\n",
              "  <div class=\"colab-df-container\">\n",
              "    <button class=\"colab-df-convert\" onclick=\"convertToInteractive('df-f27cd8ba-cd19-4fcd-a068-568bc912b0a5')\"\n",
              "            title=\"Convert this dataframe to an interactive table.\"\n",
              "            style=\"display:none;\">\n",
              "\n",
              "  <svg xmlns=\"http://www.w3.org/2000/svg\" height=\"24px\" viewBox=\"0 -960 960 960\">\n",
              "    <path d=\"M120-120v-720h720v720H120Zm60-500h600v-160H180v160Zm220 220h160v-160H400v160Zm0 220h160v-160H400v160ZM180-400h160v-160H180v160Zm440 0h160v-160H620v160ZM180-180h160v-160H180v160Zm440 0h160v-160H620v160Z\"/>\n",
              "  </svg>\n",
              "    </button>\n",
              "\n",
              "  <style>\n",
              "    .colab-df-container {\n",
              "      display:flex;\n",
              "      gap: 12px;\n",
              "    }\n",
              "\n",
              "    .colab-df-convert {\n",
              "      background-color: #E8F0FE;\n",
              "      border: none;\n",
              "      border-radius: 50%;\n",
              "      cursor: pointer;\n",
              "      display: none;\n",
              "      fill: #1967D2;\n",
              "      height: 32px;\n",
              "      padding: 0 0 0 0;\n",
              "      width: 32px;\n",
              "    }\n",
              "\n",
              "    .colab-df-convert:hover {\n",
              "      background-color: #E2EBFA;\n",
              "      box-shadow: 0px 1px 2px rgba(60, 64, 67, 0.3), 0px 1px 3px 1px rgba(60, 64, 67, 0.15);\n",
              "      fill: #174EA6;\n",
              "    }\n",
              "\n",
              "    .colab-df-buttons div {\n",
              "      margin-bottom: 4px;\n",
              "    }\n",
              "\n",
              "    [theme=dark] .colab-df-convert {\n",
              "      background-color: #3B4455;\n",
              "      fill: #D2E3FC;\n",
              "    }\n",
              "\n",
              "    [theme=dark] .colab-df-convert:hover {\n",
              "      background-color: #434B5C;\n",
              "      box-shadow: 0px 1px 3px 1px rgba(0, 0, 0, 0.15);\n",
              "      filter: drop-shadow(0px 1px 2px rgba(0, 0, 0, 0.3));\n",
              "      fill: #FFFFFF;\n",
              "    }\n",
              "  </style>\n",
              "\n",
              "    <script>\n",
              "      const buttonEl =\n",
              "        document.querySelector('#df-f27cd8ba-cd19-4fcd-a068-568bc912b0a5 button.colab-df-convert');\n",
              "      buttonEl.style.display =\n",
              "        google.colab.kernel.accessAllowed ? 'block' : 'none';\n",
              "\n",
              "      async function convertToInteractive(key) {\n",
              "        const element = document.querySelector('#df-f27cd8ba-cd19-4fcd-a068-568bc912b0a5');\n",
              "        const dataTable =\n",
              "          await google.colab.kernel.invokeFunction('convertToInteractive',\n",
              "                                                    [key], {});\n",
              "        if (!dataTable) return;\n",
              "\n",
              "        const docLinkHtml = 'Like what you see? Visit the ' +\n",
              "          '<a target=\"_blank\" href=https://colab.research.google.com/notebooks/data_table.ipynb>data table notebook</a>'\n",
              "          + ' to learn more about interactive tables.';\n",
              "        element.innerHTML = '';\n",
              "        dataTable['output_type'] = 'display_data';\n",
              "        await google.colab.output.renderOutput(dataTable, element);\n",
              "        const docLink = document.createElement('div');\n",
              "        docLink.innerHTML = docLinkHtml;\n",
              "        element.appendChild(docLink);\n",
              "      }\n",
              "    </script>\n",
              "  </div>\n",
              "\n",
              "\n",
              "<div id=\"df-39947651-0e56-4ec0-9c14-90b7af23a47e\">\n",
              "  <button class=\"colab-df-quickchart\" onclick=\"quickchart('df-39947651-0e56-4ec0-9c14-90b7af23a47e')\"\n",
              "            title=\"Suggest charts\"\n",
              "            style=\"display:none;\">\n",
              "\n",
              "<svg xmlns=\"http://www.w3.org/2000/svg\" height=\"24px\"viewBox=\"0 0 24 24\"\n",
              "     width=\"24px\">\n",
              "    <g>\n",
              "        <path d=\"M19 3H5c-1.1 0-2 .9-2 2v14c0 1.1.9 2 2 2h14c1.1 0 2-.9 2-2V5c0-1.1-.9-2-2-2zM9 17H7v-7h2v7zm4 0h-2V7h2v10zm4 0h-2v-4h2v4z\"/>\n",
              "    </g>\n",
              "</svg>\n",
              "  </button>\n",
              "\n",
              "<style>\n",
              "  .colab-df-quickchart {\n",
              "      --bg-color: #E8F0FE;\n",
              "      --fill-color: #1967D2;\n",
              "      --hover-bg-color: #E2EBFA;\n",
              "      --hover-fill-color: #174EA6;\n",
              "      --disabled-fill-color: #AAA;\n",
              "      --disabled-bg-color: #DDD;\n",
              "  }\n",
              "\n",
              "  [theme=dark] .colab-df-quickchart {\n",
              "      --bg-color: #3B4455;\n",
              "      --fill-color: #D2E3FC;\n",
              "      --hover-bg-color: #434B5C;\n",
              "      --hover-fill-color: #FFFFFF;\n",
              "      --disabled-bg-color: #3B4455;\n",
              "      --disabled-fill-color: #666;\n",
              "  }\n",
              "\n",
              "  .colab-df-quickchart {\n",
              "    background-color: var(--bg-color);\n",
              "    border: none;\n",
              "    border-radius: 50%;\n",
              "    cursor: pointer;\n",
              "    display: none;\n",
              "    fill: var(--fill-color);\n",
              "    height: 32px;\n",
              "    padding: 0;\n",
              "    width: 32px;\n",
              "  }\n",
              "\n",
              "  .colab-df-quickchart:hover {\n",
              "    background-color: var(--hover-bg-color);\n",
              "    box-shadow: 0 1px 2px rgba(60, 64, 67, 0.3), 0 1px 3px 1px rgba(60, 64, 67, 0.15);\n",
              "    fill: var(--button-hover-fill-color);\n",
              "  }\n",
              "\n",
              "  .colab-df-quickchart-complete:disabled,\n",
              "  .colab-df-quickchart-complete:disabled:hover {\n",
              "    background-color: var(--disabled-bg-color);\n",
              "    fill: var(--disabled-fill-color);\n",
              "    box-shadow: none;\n",
              "  }\n",
              "\n",
              "  .colab-df-spinner {\n",
              "    border: 2px solid var(--fill-color);\n",
              "    border-color: transparent;\n",
              "    border-bottom-color: var(--fill-color);\n",
              "    animation:\n",
              "      spin 1s steps(1) infinite;\n",
              "  }\n",
              "\n",
              "  @keyframes spin {\n",
              "    0% {\n",
              "      border-color: transparent;\n",
              "      border-bottom-color: var(--fill-color);\n",
              "      border-left-color: var(--fill-color);\n",
              "    }\n",
              "    20% {\n",
              "      border-color: transparent;\n",
              "      border-left-color: var(--fill-color);\n",
              "      border-top-color: var(--fill-color);\n",
              "    }\n",
              "    30% {\n",
              "      border-color: transparent;\n",
              "      border-left-color: var(--fill-color);\n",
              "      border-top-color: var(--fill-color);\n",
              "      border-right-color: var(--fill-color);\n",
              "    }\n",
              "    40% {\n",
              "      border-color: transparent;\n",
              "      border-right-color: var(--fill-color);\n",
              "      border-top-color: var(--fill-color);\n",
              "    }\n",
              "    60% {\n",
              "      border-color: transparent;\n",
              "      border-right-color: var(--fill-color);\n",
              "    }\n",
              "    80% {\n",
              "      border-color: transparent;\n",
              "      border-right-color: var(--fill-color);\n",
              "      border-bottom-color: var(--fill-color);\n",
              "    }\n",
              "    90% {\n",
              "      border-color: transparent;\n",
              "      border-bottom-color: var(--fill-color);\n",
              "    }\n",
              "  }\n",
              "</style>\n",
              "\n",
              "  <script>\n",
              "    async function quickchart(key) {\n",
              "      const quickchartButtonEl =\n",
              "        document.querySelector('#' + key + ' button');\n",
              "      quickchartButtonEl.disabled = true;  // To prevent multiple clicks.\n",
              "      quickchartButtonEl.classList.add('colab-df-spinner');\n",
              "      try {\n",
              "        const charts = await google.colab.kernel.invokeFunction(\n",
              "            'suggestCharts', [key], {});\n",
              "      } catch (error) {\n",
              "        console.error('Error during call to suggestCharts:', error);\n",
              "      }\n",
              "      quickchartButtonEl.classList.remove('colab-df-spinner');\n",
              "      quickchartButtonEl.classList.add('colab-df-quickchart-complete');\n",
              "    }\n",
              "    (() => {\n",
              "      let quickchartButtonEl =\n",
              "        document.querySelector('#df-39947651-0e56-4ec0-9c14-90b7af23a47e button');\n",
              "      quickchartButtonEl.style.display =\n",
              "        google.colab.kernel.accessAllowed ? 'block' : 'none';\n",
              "    })();\n",
              "  </script>\n",
              "</div>\n",
              "    </div>\n",
              "  </div>\n"
            ],
            "application/vnd.google.colaboratory.intrinsic+json": {
              "type": "dataframe",
              "summary": "{\n  \"name\": \"config_best\",\n  \"rows\": 5,\n  \"fields\": [\n    {\n      \"column\": \"payout\",\n      \"properties\": {\n        \"dtype\": \"number\",\n        \"std\": 19,\n        \"min\": 0,\n        \"max\": 50,\n        \"num_unique_values\": 5,\n        \"samples\": [\n          20,\n          10,\n          5\n        ],\n        \"semantic_type\": \"\",\n        \"description\": \"\"\n      }\n    },\n    {\n      \"column\": \"count\",\n      \"properties\": {\n        \"dtype\": \"number\",\n        \"std\": 9975,\n        \"min\": 31,\n        \"max\": 23663,\n        \"num_unique_values\": 5,\n        \"samples\": [\n          3276,\n          31,\n          2699\n        ],\n        \"semantic_type\": \"\",\n        \"description\": \"\"\n      }\n    },\n    {\n      \"column\": \"prob\",\n      \"properties\": {\n        \"dtype\": \"number\",\n        \"std\": 0.3325260507756414,\n        \"min\": 0.0010333333333333334,\n        \"max\": 0.7887666666666666,\n        \"num_unique_values\": 5,\n        \"samples\": [\n          0.1092,\n          0.0010333333333333334,\n          0.08996666666666667\n        ],\n        \"semantic_type\": \"\",\n        \"description\": \"\"\n      }\n    },\n    {\n      \"column\": \"expectation\",\n      \"properties\": {\n        \"dtype\": \"number\",\n        \"std\": 0.8991633302378632,\n        \"min\": 0.0,\n        \"max\": 2.184,\n        \"num_unique_values\": 5,\n        \"samples\": [\n          2.184,\n          0.010333333333333333,\n          0.4498333333333333\n        ],\n        \"semantic_type\": \"\",\n        \"description\": \"\"\n      }\n    }\n  ]\n}"
            }
          },
          "metadata": {},
          "execution_count": 27
        }
      ]
    },
    {
      "cell_type": "markdown",
      "source": [
        "## 3.4: Review the found best result\n",
        "\n",
        "Here we can take a look at the configurations of the probability of symbols in each reel."
      ],
      "metadata": {
        "id": "zojuo4RG3rNu"
      }
    },
    {
      "cell_type": "code",
      "source": [
        "config_best.slot.reels[0].probs()"
      ],
      "metadata": {
        "colab": {
          "base_uri": "https://localhost:8080/"
        },
        "id": "g8FUCxa5shRX",
        "outputId": "51820199-e3ee-48ea-b232-33281b821be7"
      },
      "execution_count": 28,
      "outputs": [
        {
          "output_type": "execute_result",
          "data": {
            "text/plain": [
              "[0.34594267138267626,\n",
              " 0.038801163966465935,\n",
              " 0.3442856509471367,\n",
              " 0.27097051370372105]"
            ]
          },
          "metadata": {},
          "execution_count": 28
        }
      ]
    },
    {
      "cell_type": "code",
      "source": [
        "config_best.slot.reels[1].probs()"
      ],
      "metadata": {
        "colab": {
          "base_uri": "https://localhost:8080/"
        },
        "id": "EU6DirkSskOQ",
        "outputId": "2fd9d4df-2a8e-4ee5-bf5a-fdf74d7be0ca"
      },
      "execution_count": 29,
      "outputs": [
        {
          "output_type": "execute_result",
          "data": {
            "text/plain": [
              "[0.07749528339597762,\n",
              " 0.046118732699572465,\n",
              " 0.7218062452766421,\n",
              " 0.15457973862780783]"
            ]
          },
          "metadata": {},
          "execution_count": 29
        }
      ]
    },
    {
      "cell_type": "code",
      "source": [
        "config_best.slot.reels[2].probs()"
      ],
      "metadata": {
        "colab": {
          "base_uri": "https://localhost:8080/"
        },
        "id": "Ujn_HIIotGzm",
        "outputId": "55f24ab5-fc70-434a-f596-62aa8a7eaa28"
      },
      "execution_count": 30,
      "outputs": [
        {
          "output_type": "execute_result",
          "data": {
            "text/plain": [
              "[0.004292094980778626,\n",
              " 0.2932050035279458,\n",
              " 0.4468769628241586,\n",
              " 0.25562593866711697]"
            ]
          },
          "metadata": {},
          "execution_count": 30
        }
      ]
    },
    {
      "cell_type": "code",
      "source": [
        "config_best.slot.spin()"
      ],
      "metadata": {
        "colab": {
          "base_uri": "https://localhost:8080/"
        },
        "id": "VMqyV1frtIEl",
        "outputId": "aab3932a-fd54-4f97-c519-00ff51c1d9ea"
      },
      "execution_count": 31,
      "outputs": [
        {
          "output_type": "execute_result",
          "data": {
            "text/plain": [
              "array([[🍎, 🍎, 🥝],\n",
              "       [🥝, 🍎, 🧀],\n",
              "       [🧀, 🥝, 🧀]], dtype=object)"
            ]
          },
          "metadata": {},
          "execution_count": 31
        }
      ]
    },
    {
      "cell_type": "code",
      "source": [
        "ttl = 0\n",
        "N=100000\n",
        "for i in range(N):\n",
        "  xx = config_best.slot.spin()\n",
        "  yy = [payout(payline[0], payline[1], payline[2]) for payline in xx]\n",
        "\n",
        "  ttl = ttl + sum(yy)\n",
        "#  print(f\"result: {yy}, payout: {sum(yy)}\")\n",
        "\n",
        "print(f\"average payout = {ttl / N}, RTP = {ttl/N / 10 * 100}%\")"
      ],
      "metadata": {
        "colab": {
          "base_uri": "https://localhost:8080/"
        },
        "id": "HcvTUsqntPhO",
        "outputId": "1fe70f28-59b1-45ca-820b-f744bdf6dffc"
      },
      "execution_count": 40,
      "outputs": [
        {
          "output_type": "stream",
          "name": "stdout",
          "text": [
            "average payout = 9.54245, RTP = 95.4245%\n"
          ]
        }
      ]
    },
    {
      "cell_type": "markdown",
      "source": [
        "Take a look at the distribution of payout"
      ],
      "metadata": {
        "id": "QvgEfAyCuHPh"
      }
    },
    {
      "cell_type": "code",
      "source": [
        "the_list = [0]*N\n",
        "\n",
        "for i in range(N):\n",
        "  xx = config_best.slot.spin()\n",
        "  yy = [payout(payline[0], payline[1], payline[2]) for payline in xx]\n",
        "  the_list[i] = sum(yy)\n",
        "#  print(f\"result: {yy}, payout: {sum(yy)}\")\n",
        "\n",
        "\n",
        "print(f\"{Counter(the_list)}\")"
      ],
      "metadata": {
        "colab": {
          "base_uri": "https://localhost:8080/"
        },
        "id": "YSySpru-0oUd",
        "outputId": "e46047f1-3bb8-4979-9ed9-234f8bba28e9"
      },
      "execution_count": 41,
      "outputs": [
        {
          "output_type": "stream",
          "name": "stdout",
          "text": [
            "Counter({0: 49023, 20: 20714, 5: 16583, 25: 4673, 40: 2933, 10: 2022, 50: 1995, 70: 556, 55: 462, 30: 327, 45: 299, 60: 159, 15: 105, 75: 62, 90: 43, 100: 31, 35: 5, 120: 5, 105: 2, 65: 1})\n"
          ]
        }
      ]
    },
    {
      "cell_type": "code",
      "source": [
        "plt.figure(figsize=(10,8))\n",
        "plt.bar(list(Counter(the_list).keys()), list(map(lambda x: x/N, list(Counter(the_list).values()))))\n",
        "plt.xlabel(\"Payout\")\n",
        "plt.ylabel(\"Probability\")\n",
        "plt.yticks(np.arange(0, max(list(map(lambda x: x/N, list(Counter(the_list).values()))))+0.05, 0.05))\n",
        "plt.show()"
      ],
      "metadata": {
        "colab": {
          "base_uri": "https://localhost:8080/",
          "height": 696
        },
        "id": "Dxtn8f-I1WzZ",
        "outputId": "bcb43f04-9cc8-41ef-d64a-911ae34ba922"
      },
      "execution_count": 42,
      "outputs": [
        {
          "output_type": "display_data",
          "data": {
            "text/plain": [
              "<Figure size 1000x800 with 1 Axes>"
            ],
            "image/png": "[encoded data removed]"
          },
          "metadata": {}
        }
      ]
    },
    {
      "cell_type": "markdown",
      "source": [
        "Here we can see that the payout and probability is not inversely proportional. Here it is indeed penalizing low probability event (distinct fruits payout=5) but increase the occurrence of specific high payout event (all kiwi, payout=20)"
      ],
      "metadata": {
        "id": "fw0PQKrM1aQM"
      }
    },
    {
      "cell_type": "markdown",
      "source": [
        "# Section 4: Further Improvement\n",
        "\n",
        "Instead of just referring to the RTP, we can also make use of the concept of **Hit Frequency** and **Volatility** to make the game more appealing.\n"
      ],
      "metadata": {
        "id": "dR4XR5M6UMTw"
      }
    },
    {
      "cell_type": "markdown",
      "source": [
        "## 4.1: Hit frequency\n",
        "\n",
        "Hit frequency, for short, is the ratio (or percentage) of wins. This metric does not take the amount of payout into account. But the value of hit frequency can highly affect the gaming experience. For example, a high hit frequency means the player we get payout very often; lower value means the player we rarely get payout.\n",
        "\n",
        "So the adjustment of hit frequency can lead to a different experience.\n"
      ],
      "metadata": {
        "id": "aulFERU6aBba"
      }
    },
    {
      "cell_type": "markdown",
      "source": [
        "### 4.1.1 Hit frequency of section 3.4 result\n",
        "\n",
        "Out of 100000 spins, 48690 times have no payout, and so 51310 wins.\n",
        "\n",
        "So the hit frequency will then be 51.31%"
      ],
      "metadata": {
        "id": "bC1grvMWaDCR"
      }
    },
    {
      "cell_type": "markdown",
      "source": [
        "## 4.2: Hit frequency vs RTP\n",
        "\n",
        "It will be a complicated task to solely adjust one only because they are inter-related. However, as we performed before, we can run simulation to see what configuration can lead to a good RTP with target hit frequency level"
      ],
      "metadata": {
        "id": "6mX6ddyennfp"
      }
    },
    {
      "cell_type": "code",
      "source": [
        "### Update the previous code, and also report the hit frequency\n",
        "\n",
        "class SlotSim2():\n",
        "\n",
        "  def __init__(self, sim_size, sim_size_for_probs, cost):\n",
        "    self.sim_size = sim_size\n",
        "    self.sim_size_for_probs = sim_size_for_probs\n",
        "    self.cost = cost\n",
        "    self.results = [None] * sim_size\n",
        "\n",
        "    self.sim()\n",
        "\n",
        "  def sim(self):\n",
        "    for i in range(self.sim_size):\n",
        "      print(i)\n",
        "      ssi = self.SlotSimInternal(self.sim_size_for_probs, self.cost)\n",
        "\n",
        "      self.results[i] = ssi\n",
        "\n",
        "\n",
        "\n",
        "\n",
        "  class SlotSimInternal():\n",
        "    def __init__(self, sim_size_for_probs, cost):\n",
        "      dirichlet = np.random.dirichlet(np.ones(4), size=3)\n",
        "      slot = Slot(reel1=Reel(dirichlet[0][0], dirichlet[0][1], dirichlet[0][2]),\n",
        "                    reel2=Reel(dirichlet[1][0], dirichlet[1][1], dirichlet[1][2]),\n",
        "                    reel3=Reel(dirichlet[2][0], dirichlet[2][1], dirichlet[2][2]))\n",
        "\n",
        "      self.sim_size = sim_size\n",
        "      self.sim_size_for_probs = sim_size_for_probs\n",
        "      self.cost = cost\n",
        "      self.slot = slot\n",
        "      self.outcome = None\n",
        "\n",
        "      self.train()\n",
        "      self.RTP = self.calculate_RTP()\n",
        "      self.hit_frequency = self.calculate_hit_freq()\n",
        "\n",
        "    def train(self):\n",
        "      outcome_df = pd.DataFrame(columns=[\"payline1\", \"payline2\", \"payline3\"])\n",
        "      for i in range(self.sim_size_for_probs):\n",
        "        spin_outcome = self.slot.spin()\n",
        "        outcome_df.loc[i] = [payout(payline[0], payline[1], payline[2]) for payline in spin_outcome]\n",
        "\n",
        "      out1 = outcome_df['payline1'].value_counts()\n",
        "      out2 = outcome_df['payline2'].value_counts()\n",
        "      out3 = outcome_df['payline3'].value_counts()\n",
        "\n",
        "      outcome_count_combined = out1.add(out2, fill_value=0).add(out3, fill_value=0)\n",
        "      outcome_count_combined.rename_axis('payout', inplace=True)\n",
        "\n",
        "      outcome = pd.DataFrame(outcome_count_combined)\n",
        "      outcome = outcome.reset_index()\n",
        "      outcome['prob'] = outcome['count'] / outcome_count_combined.sum()\n",
        "      outcome['expectation'] = outcome['prob'] * outcome['payout']\n",
        "\n",
        "      self.outcome = outcome\n",
        "\n",
        "    def calculate_RTP(self):\n",
        "      expected_payout_payline = self.outcome['expectation'].sum()\n",
        "      expected_payout = expected_payout_payline * 3\n",
        "      self.expected_payout = expected_payout\n",
        "      self.expected_gain = expected_payout - self.cost\n",
        "      return expected_payout / 10 * 100\n",
        "\n",
        "    def calculate_hit_freq(self):\n",
        "      ou = self.outcome\n",
        "      return (1-(ou[ou['payout']==0]['prob'])**3).to_list()[0]\n",
        "\n"
      ],
      "metadata": {
        "id": "5SgPfAm4ovsK"
      },
      "execution_count": 74,
      "outputs": []
    },
    {
      "cell_type": "code",
      "source": [
        "x2 = SlotSim2(300, 10000, 10)\n"
      ],
      "metadata": {
        "colab": {
          "base_uri": "https://localhost:8080/"
        },
        "id": "6g8cVKg0qfNx",
        "outputId": "5a410663-7f2b-4025-9da8-b06e94d3238b"
      },
      "execution_count": null,
      "outputs": [
        {
          "output_type": "stream",
          "name": "stdout",
          "text": [
            "0\n",
            "1\n",
            "2\n",
            "3\n",
            "4\n",
            "5\n",
            "6\n",
            "7\n",
            "8\n",
            "9\n",
            "10\n",
            "11\n",
            "12\n",
            "13\n",
            "14\n",
            "15\n",
            "16\n",
            "17\n",
            "18\n",
            "19\n",
            "20\n",
            "21\n",
            "22\n",
            "23\n",
            "24\n",
            "25\n",
            "26\n",
            "27\n",
            "28\n",
            "29\n",
            "30\n",
            "31\n",
            "32\n",
            "33\n",
            "34\n",
            "35\n",
            "36\n",
            "37\n",
            "38\n",
            "39\n",
            "40\n",
            "41\n",
            "42\n",
            "43\n",
            "44\n",
            "45\n",
            "46\n",
            "47\n",
            "48\n",
            "49\n",
            "50\n",
            "51\n",
            "52\n",
            "53\n",
            "54\n",
            "55\n",
            "56\n",
            "57\n",
            "58\n",
            "59\n",
            "60\n",
            "61\n",
            "62\n",
            "63\n",
            "64\n",
            "65\n",
            "66\n",
            "67\n",
            "68\n",
            "69\n",
            "70\n",
            "71\n",
            "72\n",
            "73\n",
            "74\n",
            "75\n",
            "76\n",
            "77\n",
            "78\n",
            "79\n",
            "80\n",
            "81\n",
            "82\n",
            "83\n",
            "84\n",
            "85\n",
            "86\n",
            "87\n",
            "88\n",
            "89\n",
            "90\n",
            "91\n",
            "92\n",
            "93\n",
            "94\n",
            "95\n",
            "96\n",
            "97\n",
            "98\n",
            "99\n",
            "100\n",
            "101\n",
            "102\n",
            "103\n",
            "104\n",
            "105\n",
            "106\n",
            "107\n",
            "108\n",
            "109\n",
            "110\n",
            "111\n",
            "112\n",
            "113\n",
            "114\n",
            "115\n",
            "116\n",
            "117\n",
            "118\n",
            "119\n",
            "120\n",
            "121\n",
            "122\n",
            "123\n",
            "124\n",
            "125\n",
            "126\n",
            "127\n",
            "128\n",
            "129\n",
            "130\n",
            "131\n",
            "132\n",
            "133\n",
            "134\n",
            "135\n",
            "136\n",
            "137\n",
            "138\n",
            "139\n",
            "140\n",
            "141\n",
            "142\n",
            "143\n",
            "144\n",
            "145\n",
            "146\n",
            "147\n",
            "148\n",
            "149\n",
            "150\n",
            "151\n",
            "152\n",
            "153\n",
            "154\n",
            "155\n",
            "156\n",
            "157\n",
            "158\n",
            "159\n",
            "160\n",
            "161\n",
            "162\n",
            "163\n",
            "164\n",
            "165\n",
            "166\n",
            "167\n",
            "168\n",
            "169\n",
            "170\n",
            "171\n",
            "172\n",
            "173\n",
            "174\n",
            "175\n",
            "176\n",
            "177\n",
            "178\n",
            "179\n",
            "180\n",
            "181\n",
            "182\n",
            "183\n",
            "184\n",
            "185\n",
            "186\n",
            "187\n",
            "188\n",
            "189\n",
            "190\n",
            "191\n",
            "192\n",
            "193\n",
            "194\n",
            "195\n",
            "196\n",
            "197\n",
            "198\n",
            "199\n",
            "200\n",
            "201\n",
            "202\n",
            "203\n",
            "204\n",
            "205\n",
            "206\n"
          ]
        }
      ]
    },
    {
      "cell_type": "code",
      "source": [],
      "metadata": {
        "id": "uhgP27dWrZkZ"
      },
      "execution_count": null,
      "outputs": []
    }
  ]
}