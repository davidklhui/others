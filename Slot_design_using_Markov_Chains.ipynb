{
  "nbformat": 4,
  "nbformat_minor": 0,
  "metadata": {
    "colab": {
      "provenance": [],
      "toc_visible": true,
      "authorship_tag": "ABX9TyOWzegujhgdr50Zu5ydjS9L",
      "include_colab_link": true
    },
    "kernelspec": {
      "name": "python3",
      "display_name": "Python 3"
    },
    "language_info": {
      "name": "python"
    }
  },
  "cells": [
    {
      "cell_type": "markdown",
      "metadata": {
        "id": "view-in-github",
        "colab_type": "text"
      },
      "source": [
        "<a href=\"https://colab.research.google.com/github/davidklhui/stochastic-modelling/blob/main/Slot_design_using_Markov_Chains.ipynb\" target=\"_parent\"><img src=\"https://colab.research.google.com/assets/colab-badge.svg\" alt=\"Open In Colab\"/></a>"
      ]
    },
    {
      "cell_type": "markdown",
      "source": [
        "author: David K.L. Hui"
      ],
      "metadata": {
        "id": "n3dNnEtuNJ4E"
      }
    },
    {
      "cell_type": "markdown",
      "source": [
        "This project will discuss different approach to model slot game mathematics using the concept of Markov Chains."
      ],
      "metadata": {
        "id": "fnJTcqVBNN7b"
      }
    },
    {
      "cell_type": "markdown",
      "source": [
        "# Section 1: Introduction"
      ],
      "metadata": {
        "id": "FNaJ0MjMNhXJ"
      }
    },
    {
      "cell_type": "markdown",
      "source": [
        "## 1.1: Background\n",
        "\n",
        "In previous projects, we discussed the mathematics of 3x3 and 5x3 slot game design including simulations; finding feasible solutions using hit frequency and RTP; payout allocations; and probability calculations.\n",
        "\n",
        "In these projects, the main assumption is that, we assume that the outcomes of the reels are completely independent between game. This is useful when designing basic game as there will not have a dependencies between game.\n",
        "\n",
        "However, in many modern casino, the slot machine itself has its own internal mechanism. For example, make consecutive large prize and medium prize be impossible.\n",
        "\n",
        "To control this kind of prize behavior, very basic if-then-else flow control programming is capable of achieve this. Another possible way is to use Markov Chains. Using Markov Chains, we can easily visualize the transition of different states (using state-space diagram, or simply the transition probability matrix), the probability of transitions, as well as the limiting distributions.\n",
        "\n",
        "It is worth to note that, all key concepts we have used like Hit Frequency and RTP are still applicable, although the calculation may be a bit differs."
      ],
      "metadata": {
        "id": "IUfEGPnjQkFD"
      }
    },
    {
      "cell_type": "markdown",
      "source": [
        "## 1.2: Stochastic Processes"
      ],
      "metadata": {
        "id": "hCe57EojUNAg"
      }
    },
    {
      "cell_type": "markdown",
      "source": [
        "Stochastic Processes is a sequence of random variables over time. We usually classify a stochasic process using **state** and **stage**.\n",
        "\n",
        "1. State: the states of the process is the possible value of the random variables. e.g.: non-negative integers for a queue; +1 / 0/ -1 to represent win/draw/loss of a game;\n",
        "\n",
        "2. Stage: also the time, which is the time the random variables are collected. e.g: discrete time (n), or continuous time (t)\n",
        "\n",
        "Stochasic Processes is a extremely broad class in probability theory. In our project, we will use a specific type called Markov Chains, a discrete time - discrete states stochasic processes with **Markov property**."
      ],
      "metadata": {
        "id": "IUKktkW9Ux80"
      }
    },
    {
      "cell_type": "markdown",
      "source": [
        "## 1.3: Markov Chains\n",
        "\n",
        "One important property of a Markov Chains and all kind of Markov processes, are the property called **Markov property**.\n",
        "\n",
        "The Markov Property is a memoryless property of a process, which means that if we know the present state of the process, then the future states are independent of the past history.\n",
        "\n",
        "Mathematically, the Markov property stated that, given the present state $X_n$, the state of the future state $X_{n+1}, X_{n+2}, ...$ is independent of the past $X_{n-1}, X_{n-2}, ...$, i.e.\n",
        "\n",
        "$$\n",
        "P(X_{n+1}=j | X_n = i, X_{n-1} = i_{n-1}, X_{n-2} = i_{n-2}, ....) = P(X_{n+1}=j | X_n = i) \\ \\forall i,j,n\n",
        "$$\n",
        "\n",
        "In general, we needs either the **State-Space Diagram** or the **Transition Probability Matrix** to represents a Markov Chains. In this project, we will simply use the transition probability matrix, **P**, where its rows represent the current state, columns represent the next state, and the element $p_{i,j}$ represents the transition probability moving from state i to state j, i.e.\n",
        "\n",
        "$$\n",
        "p_{i,j} = P(X_{n+1} = j | X_n = i) \\ \\forall i,j\n",
        "$$\n"
      ],
      "metadata": {
        "id": "rnDpk53_ZmAj"
      }
    },
    {
      "cell_type": "markdown",
      "source": [
        "## 1.4: Limiting Distribution\n",
        "\n",
        "One important concept of a stochastic process is the long run behavior. For specific Markov Chains, we can derive its limiting distribution (also known as stationary distribution).\n",
        "\n",
        "For the randomness property of a stochastic process, it is impossible to know the exact state of process (unless for specific class of chains like periodic, or reached the absorption states). However, if the limiting distribution exists, we can know that, the proportion of time the process is in specific state regardless of the initial state.\n",
        "\n",
        "This concept is particular useful for us to define the Hit frequency and RTP because\n",
        "1. we know on average the proportion of time in different states, especially in the state of not winning, so we can calculate the hit frequency\n",
        "2. similar, we know how often it is in different prize state, so we can calculate the RTP as well\n",
        "\n",
        "\n",
        "To calculate the limiting distribution, we can use the famous relationship\n",
        "\n",
        "$$\n",
        "\\pi = \\pi P\n",
        "$$\n",
        "\n",
        "where $\\pi$ is the limiting distribution in row vector, $P$ is the transition probability matrix\n"
      ],
      "metadata": {
        "id": "umoZCiJhzbGg"
      }
    },
    {
      "cell_type": "markdown",
      "source": [
        "# Section 2: Modeling\n",
        "\n",
        "The above are just a tip of the area of Markov Chains and Stochastic Processes. There are many wonderful application area that may be useful for iGaming industry.\n",
        "\n",
        "In this project, we will consider to model the game with the followings:\n",
        "1. Classify the results into at least 4 states: Not win (0); Small Prize (1); Medium Prize (2); Large Prize (3)\n",
        "2. Homogeneous Markov Chains: the transition probability is time-invariant, i.e. independent of the stage. (we can discuss further in later sections if we wish to retain some information about the consecutive loss)\n",
        "3. Markov Property holds: given the latest state is enough to tell the transition probability, regardless of the past\n",
        "4. Limiting Distribution exists: as we mentioned, limiting distribution exists only for specific conditions holds. However, it is no harm to assume it exists, if not, try use another transition probability matrix.\n"
      ],
      "metadata": {
        "id": "kJWWhpsD4pyD"
      }
    },
    {
      "cell_type": "markdown",
      "source": [
        "## 2.1: Example\n",
        "\n",
        "Here we provide a very basic setup:\n",
        "\n",
        "Step1: Define a transition probability matrix <br/>\n",
        "Step2: find the limiting distribution through eigen problem (eigenvector with eigenvalue = 1) <br/>\n",
        "Step3: find Prob(win) <br/>\n",
        "Step4: distribute the payout according to the probability, and calculate the RTP"
      ],
      "metadata": {
        "id": "hZqqGkH17KcP"
      }
    },
    {
      "cell_type": "code",
      "execution_count": 1,
      "metadata": {
        "id": "_mLAzQc2kTTm"
      },
      "outputs": [],
      "source": [
        "import numpy as np"
      ]
    },
    {
      "cell_type": "code",
      "source": [
        "P = np.array([[0.69, 0.205, 0.1, 0.005], [0.7, 0.2, 0.099, 0.001], [0.9, 0.09, 0.01, 0], [0.99, 0.01, 0, 0]])\n",
        "P"
      ],
      "metadata": {
        "colab": {
          "base_uri": "https://localhost:8080/"
        },
        "id": "0kZ37RSRDxT5",
        "outputId": "1f87bb62-17bf-47e7-c99b-a84aa93821c8"
      },
      "execution_count": 2,
      "outputs": [
        {
          "output_type": "execute_result",
          "data": {
            "text/plain": [
              "array([[0.69 , 0.205, 0.1  , 0.005],\n",
              "       [0.7  , 0.2  , 0.099, 0.001],\n",
              "       [0.9  , 0.09 , 0.01 , 0.   ],\n",
              "       [0.99 , 0.01 , 0.   , 0.   ]])"
            ]
          },
          "metadata": {},
          "execution_count": 2
        }
      ]
    },
    {
      "cell_type": "code",
      "source": [
        "## You may take a look, for a long run, the N-steps transition probability will become this\n",
        "from numpy.linalg import matrix_power\n",
        "\n",
        "p = matrix_power(P, 10000)\n",
        "p"
      ],
      "metadata": {
        "colab": {
          "base_uri": "https://localhost:8080/"
        },
        "id": "IZ7rLwA_EZcQ",
        "outputId": "a74806d8-6b7d-4c46-f963-4fd591ce6b5c"
      },
      "execution_count": 3,
      "outputs": [
        {
          "output_type": "execute_result",
          "data": {
            "text/plain": [
              "array([[0.71221088, 0.19281342, 0.09122183, 0.00375387],\n",
              "       [0.71221088, 0.19281342, 0.09122183, 0.00375387],\n",
              "       [0.71221088, 0.19281342, 0.09122183, 0.00375387],\n",
              "       [0.71221088, 0.19281342, 0.09122183, 0.00375387]])"
            ]
          },
          "metadata": {},
          "execution_count": 3
        }
      ]
    },
    {
      "cell_type": "code",
      "source": [
        "# We can use solve the eigen equation to get the limiting distribution\n",
        "# since it works only for column vector, so first we need to transpose the transition probability matrix\n",
        "# then find the column vector associated with eigenvalue = 1\n",
        "# finally, re-scale the eigenvector to sum = 1 (by default, it is of norm=1)\n",
        "\n",
        "from numpy.linalg import eig\n",
        "\n",
        "eigenvalues, eigenvectors = eig(np.transpose(P))"
      ],
      "metadata": {
        "id": "U6QNBKyH7ppp"
      },
      "execution_count": 4,
      "outputs": []
    },
    {
      "cell_type": "code",
      "source": [
        "eigenvalues"
      ],
      "metadata": {
        "colab": {
          "base_uri": "https://localhost:8080/"
        },
        "id": "U9ElTkCB8Hmi",
        "outputId": "f4c3643e-fca9-4506-9861-085e9fcdaad4"
      },
      "execution_count": 5,
      "outputs": [
        {
          "output_type": "execute_result",
          "data": {
            "text/plain": [
              "array([ 1.        , -0.10229626,  0.01652407, -0.01422782])"
            ]
          },
          "metadata": {},
          "execution_count": 5
        }
      ]
    },
    {
      "cell_type": "code",
      "source": [
        "eigenvectors"
      ],
      "metadata": {
        "colab": {
          "base_uri": "https://localhost:8080/"
        },
        "id": "kt2fBYol70Wk",
        "outputId": "342c7c7b-4573-4018-ae86-868ab8ebed5e"
      },
      "execution_count": 6,
      "outputs": [
        {
          "output_type": "execute_result",
          "data": {
            "text/plain": [
              "array([[ 0.95794711,  0.82418853,  0.68136944, -0.64133836],\n",
              "       [ 0.2593404 , -0.45994563, -0.69796184,  0.70684662],\n",
              "       [ 0.12269637, -0.32845472, -0.14734329, -0.24120953],\n",
              "       [ 0.00504908, -0.03578818,  0.16393569,  0.17570126]])"
            ]
          },
          "metadata": {},
          "execution_count": 6
        }
      ]
    },
    {
      "cell_type": "code",
      "source": [
        "p = np.transpose(eigenvectors)[0]\n",
        "p = p/sum(p)\n",
        "\n",
        "p"
      ],
      "metadata": {
        "colab": {
          "base_uri": "https://localhost:8080/"
        },
        "id": "Fqh781ZvTXfe",
        "outputId": "99e50642-7f30-4c2d-cdf8-96f024cbc2d5"
      },
      "execution_count": 7,
      "outputs": [
        {
          "output_type": "execute_result",
          "data": {
            "text/plain": [
              "array([0.71221088, 0.19281342, 0.09122183, 0.00375387])"
            ]
          },
          "metadata": {},
          "execution_count": 7
        }
      ]
    },
    {
      "cell_type": "code",
      "source": [
        "# perform further analysis\n",
        "p0, p1, p2, p3 = p"
      ],
      "metadata": {
        "id": "GotKRsc8VdJ5"
      },
      "execution_count": 8,
      "outputs": []
    },
    {
      "cell_type": "code",
      "source": [
        "p0"
      ],
      "metadata": {
        "colab": {
          "base_uri": "https://localhost:8080/"
        },
        "id": "lYtRk2gNZLTW",
        "outputId": "1ca92976-bbc4-448c-9b2f-c4c4b7ee8c38"
      },
      "execution_count": 9,
      "outputs": [
        {
          "output_type": "execute_result",
          "data": {
            "text/plain": [
              "0.7122108798046978"
            ]
          },
          "metadata": {},
          "execution_count": 9
        }
      ]
    },
    {
      "cell_type": "code",
      "source": [
        "p1, p2, p3"
      ],
      "metadata": {
        "colab": {
          "base_uri": "https://localhost:8080/"
        },
        "id": "By0llCghZL-S",
        "outputId": "51ed3aba-b2dd-41d4-9e6b-397b31e88099"
      },
      "execution_count": 10,
      "outputs": [
        {
          "output_type": "execute_result",
          "data": {
            "text/plain": [
              "(0.19281341769910385, 0.09122183467947585, 0.0037538678167225933)"
            ]
          },
          "metadata": {},
          "execution_count": 10
        }
      ]
    },
    {
      "cell_type": "code",
      "source": [
        "# P(Win) = Hit frequency in the long run\n",
        "1 - p0"
      ],
      "metadata": {
        "colab": {
          "base_uri": "https://localhost:8080/"
        },
        "id": "J4qe1pmqZMm8",
        "outputId": "3966631a-77dd-4745-9a37-4b2eb2d8de9e"
      },
      "execution_count": 11,
      "outputs": [
        {
          "output_type": "execute_result",
          "data": {
            "text/plain": [
              "0.28778912019530223"
            ]
          },
          "metadata": {},
          "execution_count": 11
        }
      ]
    },
    {
      "cell_type": "code",
      "source": [
        "# Suggested Payout\n",
        "c = 10\n",
        "\n",
        "r1 = c / 3 / p1\n",
        "r2 = c / 3 / p2\n",
        "r3 = c / 3 / p3\n",
        "\n",
        "\n",
        "r1, r2, r3"
      ],
      "metadata": {
        "colab": {
          "base_uri": "https://localhost:8080/"
        },
        "id": "a-6ONWgkZVmP",
        "outputId": "66a175e1-f5f6-42ee-a12c-28194ee95d2b"
      },
      "execution_count": 12,
      "outputs": [
        {
          "output_type": "execute_result",
          "data": {
            "text/plain": [
              "(17.287870175794442, 36.54095913599626, 887.9730177189836)"
            ]
          },
          "metadata": {},
          "execution_count": 12
        }
      ]
    },
    {
      "cell_type": "code",
      "source": [
        "# define the payout for each prize in sensible values\n",
        "r = [0, 15, 35, 1000]"
      ],
      "metadata": {
        "id": "_jE2VPw3ZjwE"
      },
      "execution_count": 13,
      "outputs": []
    },
    {
      "cell_type": "code",
      "source": [
        "# expected payout\n",
        "np.dot(r, p)"
      ],
      "metadata": {
        "colab": {
          "base_uri": "https://localhost:8080/"
        },
        "id": "TMnuVgVgZkvE",
        "outputId": "5f93ce1d-eb1d-4ed0-98f1-9b680b41e9ad"
      },
      "execution_count": 14,
      "outputs": [
        {
          "output_type": "execute_result",
          "data": {
            "text/plain": [
              "9.838833295990806"
            ]
          },
          "metadata": {},
          "execution_count": 14
        }
      ]
    },
    {
      "cell_type": "code",
      "source": [
        "def sim(N):\n",
        "  traces = []\n",
        "\n",
        "  latest_state = 0\n",
        "\n",
        "  for i in range(N):\n",
        "    x = np.random.choice(a=range(4), size=1, p=P[latest_state])[0]\n",
        "    traces.append(x)\n",
        "    latest_state = x\n",
        "\n",
        "  return traces\n",
        "\n",
        "\n",
        "N = 1000000\n",
        "traces = sim(N)"
      ],
      "metadata": {
        "id": "itY6Y_vvgWG_"
      },
      "execution_count": 15,
      "outputs": []
    },
    {
      "cell_type": "code",
      "source": [
        "from collections import Counter\n",
        "\n",
        "Counter(traces)"
      ],
      "metadata": {
        "colab": {
          "base_uri": "https://localhost:8080/"
        },
        "id": "w0kjg2NphHVI",
        "outputId": "3ade79bd-147d-40bc-c700-ba553f12745c"
      },
      "execution_count": 16,
      "outputs": [
        {
          "output_type": "execute_result",
          "data": {
            "text/plain": [
              "Counter({0: 711779, 2: 91219, 1: 193280, 3: 3722})"
            ]
          },
          "metadata": {},
          "execution_count": 16
        }
      ]
    },
    {
      "cell_type": "code",
      "source": [
        "# verify the proportion of states\n",
        "[xx * N for xx in p]"
      ],
      "metadata": {
        "colab": {
          "base_uri": "https://localhost:8080/"
        },
        "id": "7k_lzg2uhnNM",
        "outputId": "4663387d-8148-4826-ac63-a539c2c82a80"
      },
      "execution_count": 17,
      "outputs": [
        {
          "output_type": "execute_result",
          "data": {
            "text/plain": [
              "[712210.8798046978, 192813.41769910385, 91221.83467947585, 3753.8678167225935]"
            ]
          },
          "metadata": {},
          "execution_count": 17
        }
      ]
    },
    {
      "cell_type": "code",
      "source": [
        "r"
      ],
      "metadata": {
        "colab": {
          "base_uri": "https://localhost:8080/"
        },
        "id": "oSBy7icxkzfa",
        "outputId": "05c477fd-4b7d-4fb7-b7d4-2d539c1d30c1"
      },
      "execution_count": 18,
      "outputs": [
        {
          "output_type": "execute_result",
          "data": {
            "text/plain": [
              "[0, 15, 35, 1000]"
            ]
          },
          "metadata": {},
          "execution_count": 18
        }
      ]
    },
    {
      "cell_type": "code",
      "source": [
        "# RTP\n",
        "sum(list(map(lambda x: r[x], traces))) / (N*c)"
      ],
      "metadata": {
        "colab": {
          "base_uri": "https://localhost:8080/"
        },
        "id": "NzPgYYbEkzww",
        "outputId": "206a3abc-4069-427e-821f-36c45b1be2c4"
      },
      "execution_count": 19,
      "outputs": [
        {
          "output_type": "execute_result",
          "data": {
            "text/plain": [
              "0.9813865"
            ]
          },
          "metadata": {},
          "execution_count": 19
        }
      ]
    },
    {
      "cell_type": "markdown",
      "source": [
        "## 2.2: Example 2\n",
        "\n",
        "Suppose this time, we wish to add two more states to represent loss: -1, and -2. So, states {0, -1, -2} are the states representing a loss, but their transition to win is differernt, the more they loss, the transition probability to 1 (small prize), 2 (medium prize), 3 (large prize), will be larger slighly. What ever a win to loss will back to state 0 first."
      ],
      "metadata": {
        "id": "W3uSA8qSlEki"
      }
    },
    {
      "cell_type": "code",
      "source": [
        "P = np.array([[0.6, 0, 0, 0.26, 0.135, 0.005],\n",
        "              [0.65, 0, 0, 0.22, 0.125, 0.005],\n",
        "              [0, 0.69, 0, 0.205, 0.1, 0.005],\n",
        "              [0, 0, 0.7, 0.2, 0.099, 0.001],\n",
        "              [0, 0, 0.9, 0.09, 0.01, 0],\n",
        "              [0, 0, 0.99, 0.01, 0, 0]])\n",
        "P"
      ],
      "metadata": {
        "colab": {
          "base_uri": "https://localhost:8080/"
        },
        "id": "_oUShnIHWV16",
        "outputId": "711b9789-dfe7-4220-a9c0-7c962690300d"
      },
      "execution_count": 75,
      "outputs": [
        {
          "output_type": "execute_result",
          "data": {
            "text/plain": [
              "array([[0.6  , 0.   , 0.   , 0.26 , 0.135, 0.005],\n",
              "       [0.65 , 0.   , 0.   , 0.22 , 0.125, 0.005],\n",
              "       [0.   , 0.69 , 0.   , 0.205, 0.1  , 0.005],\n",
              "       [0.   , 0.   , 0.7  , 0.2  , 0.099, 0.001],\n",
              "       [0.   , 0.   , 0.9  , 0.09 , 0.01 , 0.   ],\n",
              "       [0.   , 0.   , 0.99 , 0.01 , 0.   , 0.   ]])"
            ]
          },
          "metadata": {},
          "execution_count": 75
        }
      ]
    },
    {
      "cell_type": "code",
      "source": [
        "[sum(x) for x in P]"
      ],
      "metadata": {
        "colab": {
          "base_uri": "https://localhost:8080/"
        },
        "id": "6D6aEpBYiUyz",
        "outputId": "1fc645ff-7518-40f1-e597-0584e970e37b"
      },
      "execution_count": 76,
      "outputs": [
        {
          "output_type": "execute_result",
          "data": {
            "text/plain": [
              "[1.0, 1.0, 0.9999999999999999, 0.9999999999999999, 1.0, 1.0]"
            ]
          },
          "metadata": {},
          "execution_count": 76
        }
      ]
    },
    {
      "cell_type": "code",
      "source": [
        "## You may take a look, for a long run, the N-steps transition probability will become this\n",
        "from numpy.linalg import matrix_power\n",
        "\n",
        "p = matrix_power(P, 10000)\n",
        "p"
      ],
      "metadata": {
        "colab": {
          "base_uri": "https://localhost:8080/"
        },
        "id": "ip4jvAyMekRP",
        "outputId": "6f83ad51-698f-492d-e7bd-b45d78644868"
      },
      "execution_count": 77,
      "outputs": [
        {
          "output_type": "execute_result",
          "data": {
            "text/plain": [
              "array([[0.27269918, 0.16781488, 0.24320997, 0.20882443, 0.1038241 ,\n",
              "        0.00362744],\n",
              "       [0.27269918, 0.16781488, 0.24320997, 0.20882443, 0.1038241 ,\n",
              "        0.00362744],\n",
              "       [0.27269918, 0.16781488, 0.24320997, 0.20882443, 0.1038241 ,\n",
              "        0.00362744],\n",
              "       [0.27269918, 0.16781488, 0.24320997, 0.20882443, 0.1038241 ,\n",
              "        0.00362744],\n",
              "       [0.27269918, 0.16781488, 0.24320997, 0.20882443, 0.1038241 ,\n",
              "        0.00362744],\n",
              "       [0.27269918, 0.16781488, 0.24320997, 0.20882443, 0.1038241 ,\n",
              "        0.00362744]])"
            ]
          },
          "metadata": {},
          "execution_count": 77
        }
      ]
    },
    {
      "cell_type": "code",
      "source": [
        "# We can use solve the eigen equation to get the limiting distribution\n",
        "# since it works only for column vector, so first we need to transpose the transition probability matrix\n",
        "# then find the column vector associated with eigenvalue = 1\n",
        "# finally, re-scale the eigenvector to sum = 1 (by default, it is of norm=1)\n",
        "\n",
        "from numpy.linalg import eig\n",
        "\n",
        "eigenvalues, eigenvectors = eig(np.transpose(P))"
      ],
      "metadata": {
        "id": "WFjzfKM5eo4h"
      },
      "execution_count": 78,
      "outputs": []
    },
    {
      "cell_type": "code",
      "source": [
        "eigenvalues"
      ],
      "metadata": {
        "colab": {
          "base_uri": "https://localhost:8080/"
        },
        "id": "isZx_888etsm",
        "outputId": "f10e5d21-bc43-4cb7-b1cc-351602f0fc4e"
      },
      "execution_count": 79,
      "outputs": [
        {
          "output_type": "execute_result",
          "data": {
            "text/plain": [
              "array([ 1.00000000e+00+0.j        ,  5.46320879e-02+0.29808585j,\n",
              "        5.46320879e-02-0.29808585j, -2.53918219e-01+0.j        ,\n",
              "       -4.58939655e-02+0.j        ,  5.48008700e-04+0.j        ])"
            ]
          },
          "metadata": {},
          "execution_count": 79
        }
      ]
    },
    {
      "cell_type": "code",
      "source": [
        "eigenvectors"
      ],
      "metadata": {
        "colab": {
          "base_uri": "https://localhost:8080/"
        },
        "id": "iHPGDrF0euRm",
        "outputId": "a6ec79cc-097c-4982-f81a-077d953f01c8"
      },
      "execution_count": 80,
      "outputs": [
        {
          "output_type": "execute_result",
          "data": {
            "text/plain": [
              "array([[-5.86649279e-01+0.j        , -6.88614914e-01+0.j        ,\n",
              "        -6.88614914e-01-0.j        ,  5.79021741e-01+0.j        ,\n",
              "         6.82606339e-01+0.j        ,  6.86162374e-01+0.j        ],\n",
              "       [-3.61014941e-01+0.j        ,  5.77766889e-01-0.3157944j ,\n",
              "         5.77766889e-01+0.3157944j , -7.60672637e-01+0.j        ,\n",
              "        -6.78294331e-01+0.j        , -6.32802156e-01+0.j        ],\n",
              "       [-5.23210059e-01+0.j        ,  1.82171674e-01+0.22459656j,\n",
              "         1.82171674e-01-0.22459656j,  2.79925567e-01+0.j        ,\n",
              "         4.51153864e-02+0.j        , -5.02581285e-04+0.j        ],\n",
              "       [-4.49237525e-01+0.j        , -3.64411264e-02+0.0769563j ,\n",
              "        -3.64411264e-02-0.0769563j , -8.75606601e-02+0.j        ,\n",
              "        -2.12411149e-01+0.j        , -1.16505619e-01+0.j        ],\n",
              "       [-2.23353577e-01+0.j        , -3.38427512e-02+0.01550622j,\n",
              "        -3.38427512e-02-0.01550622j, -9.12368538e-03+0.j        ,\n",
              "         1.63740408e-01+0.j        , -2.06023948e-01+0.j        ],\n",
              "       [-7.80360892e-03+0.j        , -1.03977102e-03-0.00126468j,\n",
              "        -1.03977102e-03+0.00126468j, -1.59032581e-03+0.j        ,\n",
              "        -7.56653358e-04+0.j        ,  2.69671930e-01+0.j        ]])"
            ]
          },
          "metadata": {},
          "execution_count": 80
        }
      ]
    },
    {
      "cell_type": "code",
      "source": [
        "p = np.transpose(eigenvectors)[0].real\n",
        "p = p/sum(p)\n",
        "\n",
        "p"
      ],
      "metadata": {
        "colab": {
          "base_uri": "https://localhost:8080/"
        },
        "id": "pXz7YST1eu3a",
        "outputId": "7c0c4de6-1436-496a-a14e-8b099b750aec"
      },
      "execution_count": 81,
      "outputs": [
        {
          "output_type": "execute_result",
          "data": {
            "text/plain": [
              "array([0.27269918, 0.16781488, 0.24320997, 0.20882443, 0.1038241 ,\n",
              "       0.00362744])"
            ]
          },
          "metadata": {},
          "execution_count": 81
        }
      ]
    },
    {
      "cell_type": "code",
      "source": [
        "# perform further analysis\n",
        "pm2, pm1, p0, p1, p2, p3 = p"
      ],
      "metadata": {
        "id": "8aoVPtAhex6U"
      },
      "execution_count": 82,
      "outputs": []
    },
    {
      "cell_type": "code",
      "source": [
        "# P(Win) = Hit frequency in the long run\n",
        "p1+p2+p3"
      ],
      "metadata": {
        "colab": {
          "base_uri": "https://localhost:8080/"
        },
        "id": "mvGxBdxee7aL",
        "outputId": "0b0d1a0a-410c-4f81-e247-bddd9a8016b5"
      },
      "execution_count": 83,
      "outputs": [
        {
          "output_type": "execute_result",
          "data": {
            "text/plain": [
              "0.31627598117000605"
            ]
          },
          "metadata": {},
          "execution_count": 83
        }
      ]
    },
    {
      "cell_type": "code",
      "source": [
        "# Suggested Payout\n",
        "c = 10\n",
        "\n",
        "r1 = c / 3 / p1\n",
        "r2 = c / 3 / p2\n",
        "r3 = c / 3 / p3\n",
        "\n",
        "\n",
        "r1, r2, r3"
      ],
      "metadata": {
        "colab": {
          "base_uri": "https://localhost:8080/"
        },
        "id": "zTP_lZidfArq",
        "outputId": "8b8da5d6-9746-4873-9e96-2ddebb004c63"
      },
      "execution_count": 84,
      "outputs": [
        {
          "output_type": "execute_result",
          "data": {
            "text/plain": [
              "(15.962372328758876, 32.10558223990266, 918.9205539589251)"
            ]
          },
          "metadata": {},
          "execution_count": 84
        }
      ]
    },
    {
      "cell_type": "code",
      "source": [
        "# define the payout for each prize in sensible values\n",
        "r = [0, 0, 0, 15, 30, 1000]"
      ],
      "metadata": {
        "id": "Mn8xrHZwfTes"
      },
      "execution_count": 85,
      "outputs": []
    },
    {
      "cell_type": "code",
      "source": [
        "# expected payout\n",
        "np.dot(r, p)"
      ],
      "metadata": {
        "colab": {
          "base_uri": "https://localhost:8080/"
        },
        "id": "6iOKWBVQfZHm",
        "outputId": "4c837597-c0a8-482e-a5f1-fbd01288e7e2"
      },
      "execution_count": 86,
      "outputs": [
        {
          "output_type": "execute_result",
          "data": {
            "text/plain": [
              "9.874534146865146"
            ]
          },
          "metadata": {},
          "execution_count": 86
        }
      ]
    },
    {
      "cell_type": "code",
      "source": [
        "def sim(N):\n",
        "  traces = []\n",
        "\n",
        "  latest_state = 0\n",
        "\n",
        "  for i in range(N):\n",
        "    x = np.random.choice(a=[-2,-1,0,1,2,3], size=1, p=P[latest_state+2])[0]\n",
        "    traces.append(x)\n",
        "    latest_state = x\n",
        "\n",
        "  return traces\n",
        "\n",
        "\n",
        "N = 1000000\n",
        "traces = sim(N)"
      ],
      "metadata": {
        "id": "HxN7yPZCfcsy"
      },
      "execution_count": 92,
      "outputs": []
    },
    {
      "cell_type": "code",
      "source": [
        "from collections import Counter\n",
        "\n",
        "Counter(traces)"
      ],
      "metadata": {
        "colab": {
          "base_uri": "https://localhost:8080/"
        },
        "id": "XOL1sKibfyZV",
        "outputId": "9498e6b6-a858-47e3-dcbd-39e77dde8a00"
      },
      "execution_count": 93,
      "outputs": [
        {
          "output_type": "execute_result",
          "data": {
            "text/plain": [
              "Counter({-1: 167815, -2: 273419, 2: 103360, 0: 243010, 1: 208808, 3: 3588})"
            ]
          },
          "metadata": {},
          "execution_count": 93
        }
      ]
    },
    {
      "cell_type": "code",
      "source": [
        "# verify the proportion of states\n",
        "[xx * N for xx in p]"
      ],
      "metadata": {
        "colab": {
          "base_uri": "https://localhost:8080/"
        },
        "id": "y7-KP822f1kT",
        "outputId": "cf093aff-ed66-4e85-c70d-ba1b79df5eb1"
      },
      "execution_count": 94,
      "outputs": [
        {
          "output_type": "execute_result",
          "data": {
            "text/plain": [
              "[272699.1751402867,\n",
              " 167814.87700940706,\n",
              " 243209.9666803001,\n",
              " 208824.43190024942,\n",
              " 103824.10474370638,\n",
              " 3627.4445260502143]"
            ]
          },
          "metadata": {},
          "execution_count": 94
        }
      ]
    },
    {
      "cell_type": "code",
      "source": [
        "r"
      ],
      "metadata": {
        "colab": {
          "base_uri": "https://localhost:8080/"
        },
        "id": "p-pDFcDDf4r4",
        "outputId": "f384c331-2ff8-489d-9392-bf975b869dd4"
      },
      "execution_count": 95,
      "outputs": [
        {
          "output_type": "execute_result",
          "data": {
            "text/plain": [
              "[0, 0, 0, 15, 30, 1000]"
            ]
          },
          "metadata": {},
          "execution_count": 95
        }
      ]
    },
    {
      "cell_type": "code",
      "source": [
        "# RTP\n",
        "sum(list(map(lambda x: r[x+2], traces))) / (N*c)"
      ],
      "metadata": {
        "colab": {
          "base_uri": "https://localhost:8080/"
        },
        "id": "Jvufd9sNf46g",
        "outputId": "5960af9f-418c-456f-e742-baace0a86dab"
      },
      "execution_count": 96,
      "outputs": [
        {
          "output_type": "execute_result",
          "data": {
            "text/plain": [
              "0.982092"
            ]
          },
          "metadata": {},
          "execution_count": 96
        }
      ]
    },
    {
      "cell_type": "markdown",
      "source": [
        "## 2.3: Discussion\n",
        "\n",
        "From these 2 examples, we can see that we can define different states of win and loss (including consecutive loss like in subsection 2.2). In general, we can define as many states as we wish. The major challenges of this method are:\n",
        "\n",
        "1. How to determine the transition probability between states\n",
        "2. How to achieve the desire limiting distribution"
      ],
      "metadata": {
        "id": "DcGXCAnzhN0T"
      }
    },
    {
      "cell_type": "code",
      "source": [],
      "metadata": {
        "id": "dTFrVZqxk85i"
      },
      "execution_count": null,
      "outputs": []
    }
  ]
}